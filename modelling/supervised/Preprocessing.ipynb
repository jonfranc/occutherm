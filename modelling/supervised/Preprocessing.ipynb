{
 "cells": [
  {
   "cell_type": "code",
   "execution_count": 1,
   "metadata": {
    "ExecuteTime": {
     "end_time": "2019-06-28T08:32:32.593676Z",
     "start_time": "2019-06-28T08:32:32.023229Z"
    }
   },
   "outputs": [],
   "source": [
    "# Pandas, pickle, pandas, numpy\n",
    "import pickle\n",
    "import numpy as np\n",
    "import pandas as pd\n",
    "\n",
    "# Sklearn\n",
    "from sklearn import linear_model \n",
    "from sklearn import preprocessing\n",
    "from sklearn.preprocessing import LabelEncoder\n"
   ]
  },
  {
   "cell_type": "markdown",
   "metadata": {},
   "source": [
    "# Loading and Cleaning"
   ]
  },
  {
   "cell_type": "code",
   "execution_count": 2,
   "metadata": {
    "ExecuteTime": {
     "end_time": "2019-06-28T08:32:33.588625Z",
     "start_time": "2019-06-28T08:32:33.513662Z"
    }
   },
   "outputs": [],
   "source": [
    "# df = pd.read_csv(\"../datasets/TCS_65_participants_outsideData.csv\", delimiter = \",\")\n",
    "df = pd.read_csv(\"../datasets/TCS_80_participants_outsideData.csv\", delimiter = \",\")\n",
    "\n",
    "# Eliminate some columns we won't be using for now\n",
    "del df['timestamp']\n",
    "del df['Day']\n",
    "del df['Time Broken']\n",
    "del df['Day_Time']\n",
    "del df['Text(Day_Time)']\n",
    "del df['Total Seconds']\n",
    "del df['Diff Seconds']\n",
    "del df['Temperature']\n",
    "del df['ThermalComfort']\n",
    "del df['TopClothing']\n",
    "del df['BottomClothing']\n",
    "del df['OuterLayerClothing']\n",
    "del df['ActivityDescription']\n",
    "del df['Thermal Comfort TA']\n",
    "\n",
    "df.reset_index()# reset index\n",
    "df = df.fillna(0) # fill NaN with 0\n"
   ]
  },
  {
   "cell_type": "code",
   "execution_count": 3,
   "metadata": {
    "ExecuteTime": {
     "end_time": "2019-06-28T08:32:36.026755Z",
     "start_time": "2019-06-28T08:32:34.698424Z"
    }
   },
   "outputs": [
    {
     "name": "stdout",
     "output_type": "stream",
     "text": [
      "\n",
      "\n",
      "Number of participants: 77\n"
     ]
    }
   ],
   "source": [
    "as_many_participants = True\n",
    "\n",
    "if as_many_participants:\n",
    "    df = df[df['Participant_No'] != 9] # no variability in zone temperature, error in room thermostat\n",
    "#     df = df[df['Participant_No'] != 10] # no skin temperature (no wearable data)\n",
    "    df = df[df['Participant_No'] != 13] # no zone temperature \n",
    "#     df = df[df['Participant_No'] != 26] # no skin temperature (no wearable data)\n",
    "#     df = df[df['Participant_No'] != 28] # no skin temperature (no wearable data)\n",
    "#     df = df[df['Participant_No'] != 36] # no skin temperature (no wearable data)\n",
    "#     df = df[df['Participant_No'] != 37] # no skin temperature (no wearable data)\n",
    "    df = df[df['Participant_No'] != 38] # no subject exist, the number was skipped\n",
    "#     df = df[df['Participant_No'] != 39] # no skin temperature (no wearable data)\n",
    "#     df = df[df['Participant_No'] != 47] # no skin temperature (no wearable data)\n",
    "#     df = df[df['Participant_No'] != 48] # no skin temperature (no wearable data)\n",
    "#     df = df[df['Participant_No'] !=  53] # no skin temperature (no wearable data)\n",
    "    \n",
    "\n",
    "    # randomize dataset\n",
    "    df_lm = df[df['class'] == 'SurveyData']\n",
    "    df_lm = df_lm.sample(frac = 1).reset_index(drop = True)\n",
    "    \n",
    "    # encode categorical variables\n",
    "    for col in df_lm.columns.values:\n",
    "        le = LabelEncoder()\n",
    "        if df_lm[col].dtypes == 'object':\n",
    "            df_lm[col] = df_lm[col].astype(str)\n",
    "            le.fit(df_lm[col])\n",
    "            df_lm[col]=le.transform(df_lm[col])\n",
    "\n",
    "    del df_lm['Participant_No']\n",
    "    del df_lm['class']\n",
    "    del df_lm['MinuteCalories']\n",
    "    \n",
    "#     del df_lm['Activity']\n",
    "\n",
    "    X = np.array(df_lm.iloc[:, 0:df_lm.shape[1] - 1])\n",
    "#     X = np.array(df_lm.iloc[:, 0:len(list(df_lm)[:-1])])\n",
    "    # scale data\n",
    "    scaled_X = preprocessing.scale(X)\n",
    "    \n",
    "    y = np.array(df_lm['Discrete Thermal Comfort_TA'])\n",
    "\n",
    "    lm = linear_model.LinearRegression()  \n",
    "    lm.fit(X, y) \n",
    "    # lm.fit(scaled_X, y)\n",
    "\n",
    "    df_lm_coef = pd.DataFrame(list(zip(df_lm.columns, lm.coef_)), columns = ['features', 'estimatedCoefficients'])\n",
    "    \n",
    "    # Heuristic: skin temperature = room temperature + k\n",
    "    heuristic_df = df.copy()\n",
    "    heuristic_df = heuristic_df.replace(0, np.NaN)\n",
    "    k_mean = (heuristic_df['SkinTemperature'] - heuristic_df['Temperature (Fahrenheit)']).mean()\n",
    "    k_std =  (heuristic_df['SkinTemperature'] - heuristic_df['Temperature (Fahrenheit)']).std()\n",
    "    \n",
    "    # for each participant that doesn't have skin temperature, calculate the heuristic\n",
    "    for p in [10, 21, 26, 27, 28, 35, 36, 37, 39, 47, 48, 53, 60, 64, 73]:\n",
    "        # filter current participant\n",
    "        curr_p = df[df['Participant_No'] == p]\n",
    "        \n",
    "        # calculate new skin temperature for this participant: skin temp = room temp + k\n",
    "        heuristic_skin_temp = curr_p['Temperature (Fahrenheit)'].apply(lambda x : x +\n",
    "                                                                       np.random.normal(k_mean, k_std, 1))\n",
    "        # update the values in the dataframe\n",
    "        curr_p_indices = curr_p.index.values\n",
    "        df.loc[curr_p_indices,'SkinTemperature'] = heuristic_skin_temp.astype(float)\n",
    "\n",
    "        df.to_csv(\"../datasets/TCS_80_participants_outsideData_heuristicST.csv\")\n",
    "                \n",
    "num_participants = df['Participant_No'].unique()\n",
    "print(\"\\n\")\n",
    "print(\"Number of participants: {}\".format(len(num_participants)))\n"
   ]
  },
  {
   "cell_type": "code",
   "execution_count": 4,
   "metadata": {
    "ExecuteTime": {
     "end_time": "2019-06-28T08:32:36.040754Z",
     "start_time": "2019-06-28T08:32:36.028478Z"
    }
   },
   "outputs": [
    {
     "data": {
      "text/html": [
       "<div>\n",
       "<style scoped>\n",
       "    .dataframe tbody tr th:only-of-type {\n",
       "        vertical-align: middle;\n",
       "    }\n",
       "\n",
       "    .dataframe tbody tr th {\n",
       "        vertical-align: top;\n",
       "    }\n",
       "\n",
       "    .dataframe thead th {\n",
       "        text-align: right;\n",
       "    }\n",
       "</style>\n",
       "<table border=\"1\" class=\"dataframe\">\n",
       "  <thead>\n",
       "    <tr style=\"text-align: right;\">\n",
       "      <th></th>\n",
       "      <th>features</th>\n",
       "      <th>estimatedCoefficients</th>\n",
       "    </tr>\n",
       "  </thead>\n",
       "  <tbody>\n",
       "    <tr>\n",
       "      <th>0</th>\n",
       "      <td>Temperature (Fahrenheit)</td>\n",
       "      <td>8.507353e-02</td>\n",
       "    </tr>\n",
       "    <tr>\n",
       "      <th>6</th>\n",
       "      <td>Shoulder Circumference(cm)</td>\n",
       "      <td>1.276668e-02</td>\n",
       "    </tr>\n",
       "    <tr>\n",
       "      <th>4</th>\n",
       "      <td>Activity</td>\n",
       "      <td>1.196414e-02</td>\n",
       "    </tr>\n",
       "    <tr>\n",
       "      <th>10</th>\n",
       "      <td>Humidity_outside</td>\n",
       "      <td>1.863464e-03</td>\n",
       "    </tr>\n",
       "    <tr>\n",
       "      <th>9</th>\n",
       "      <td>Temperature_outside</td>\n",
       "      <td>2.291761e-04</td>\n",
       "    </tr>\n",
       "    <tr>\n",
       "      <th>1</th>\n",
       "      <td>Gsr</td>\n",
       "      <td>6.064483e-07</td>\n",
       "    </tr>\n",
       "    <tr>\n",
       "      <th>5</th>\n",
       "      <td>Height(cm)</td>\n",
       "      <td>-4.656155e-04</td>\n",
       "    </tr>\n",
       "    <tr>\n",
       "      <th>7</th>\n",
       "      <td>Weight(lbs)</td>\n",
       "      <td>-2.106426e-03</td>\n",
       "    </tr>\n",
       "    <tr>\n",
       "      <th>2</th>\n",
       "      <td>SkinTemperature</td>\n",
       "      <td>-2.836217e-03</td>\n",
       "    </tr>\n",
       "    <tr>\n",
       "      <th>8</th>\n",
       "      <td>Gender</td>\n",
       "      <td>-5.259315e-02</td>\n",
       "    </tr>\n",
       "    <tr>\n",
       "      <th>3</th>\n",
       "      <td>ClothingInsulation</td>\n",
       "      <td>-5.959507e-01</td>\n",
       "    </tr>\n",
       "  </tbody>\n",
       "</table>\n",
       "</div>"
      ],
      "text/plain": [
       "                      features  estimatedCoefficients\n",
       "0     Temperature (Fahrenheit)           8.507353e-02\n",
       "6   Shoulder Circumference(cm)           1.276668e-02\n",
       "4                     Activity           1.196414e-02\n",
       "10            Humidity_outside           1.863464e-03\n",
       "9          Temperature_outside           2.291761e-04\n",
       "1                          Gsr           6.064483e-07\n",
       "5                   Height(cm)          -4.656155e-04\n",
       "7                  Weight(lbs)          -2.106426e-03\n",
       "2              SkinTemperature          -2.836217e-03\n",
       "8                       Gender          -5.259315e-02\n",
       "3           ClothingInsulation          -5.959507e-01"
      ]
     },
     "execution_count": 4,
     "metadata": {},
     "output_type": "execute_result"
    }
   ],
   "source": [
    "# print df_lm_coef\n",
    "\n",
    "df_lm_coef.sort_values(['estimatedCoefficients'], ascending=False)\n",
    "    "
   ]
  },
  {
   "cell_type": "code",
   "execution_count": null,
   "metadata": {
    "ExecuteTime": {
     "end_time": "2019-06-28T08:26:55.727164Z",
     "start_time": "2019-06-28T08:26:55.715584Z"
    }
   },
   "outputs": [],
   "source": [
    "print(df.groupby('Gender')['Participant_No'].nunique())\n",
    "print(\"\\n\")\n",
    "# print(df['Discrete Thermal Comfort_TA'].value_counts())\n"
   ]
  },
  {
   "cell_type": "markdown",
   "metadata": {},
   "source": [
    "# Create band and survey datasets"
   ]
  },
  {
   "cell_type": "code",
   "execution_count": null,
   "metadata": {
    "ExecuteTime": {
     "end_time": "2019-06-28T07:57:24.490873Z",
     "start_time": "2019-06-28T07:57:24.440375Z"
    }
   },
   "outputs": [],
   "source": [
    "# creeate two datasets based on type of instances\n",
    "df_survey = df[df['class'] == 'SurveyData']\n",
    "df_band = df[df['class'] == 'BandData']\n",
    "\n",
    "del df_band['class']\n",
    "del df_survey['class']\n",
    "\n",
    "print(\"Band dataset size: {}\".format(df_band.shape))\n",
    "print(\"Survey dataset size: {}\".format(df_survey.shape))\n",
    "#print(df_band)\n",
    "\n",
    "\n",
    "\n",
    "def f_to_c(x):\n",
    "    x = (x - 32) * 5.0 / 9.0\n",
    "    return float(x)\n",
    "df_description = df_survey.copy()\n",
    "df_description['SkinT_C'] = df_survey['SkinTemperature'].apply(f_to_c)\n",
    "df_description['Temperature_C'] = df_survey['Temperature (Fahrenheit)'].apply(f_to_c)\n",
    "df_description['Temperature_outside_C'] = df_survey['Temperature_outside'].apply(f_to_c)\n",
    "\n",
    "print(df_description.describe(include = 'all'))\n",
    "# print(df_survey['SkinTemperature'])\n",
    "\n",
    "print(df_survey['Discrete Thermal Comfort_TA'].value_counts())\n"
   ]
  },
  {
   "cell_type": "markdown",
   "metadata": {},
   "source": [
    "# Feature Selection"
   ]
  },
  {
   "cell_type": "code",
   "execution_count": null,
   "metadata": {
    "ExecuteTime": {
     "end_time": "2019-06-27T02:58:17.570591Z",
     "start_time": "2019-06-27T02:58:17.563504Z"
    }
   },
   "outputs": [],
   "source": [
    "df_encoded = df_survey.copy()\n",
    "\n",
    "# encoding categorical variables\n",
    "for col in df_encoded.columns.values:\n",
    "    le = LabelEncoder()\n",
    "    if df_encoded[col].dtypes == 'object':\n",
    "        df_encoded[col] = df_encoded[col].astype(str)\n",
    "        le.fit(df_encoded[col])\n",
    "        df_encoded[col]=le.transform(df_encoded[col])\n"
   ]
  },
  {
   "cell_type": "code",
   "execution_count": null,
   "metadata": {
    "ExecuteTime": {
     "end_time": "2019-06-27T02:58:17.582979Z",
     "start_time": "2019-06-27T02:58:17.572415Z"
    }
   },
   "outputs": [],
   "source": [
    "# Feature set 1\n",
    "df_feature1 = df_encoded.copy()\n",
    "del df_feature1['Gsr']\n",
    "del df_feature1['Activity']\n",
    "del df_feature1['MinuteCalories']\n",
    "\n",
    "print(\"Feature Set 1: \", df_feature1.columns.values[:-1]) # minus the last element, the comfort label\n",
    "print( \"Number of features in this set: \", df_feature1.shape[1] - 1) # minus 1 for the comfort label\n"
   ]
  },
  {
   "cell_type": "code",
   "execution_count": null,
   "metadata": {
    "ExecuteTime": {
     "end_time": "2019-06-27T02:58:17.592885Z",
     "start_time": "2019-06-27T02:58:17.584367Z"
    }
   },
   "outputs": [],
   "source": [
    "# Feature set 2\n",
    "df_feature2 =  df_feature1.copy()\n",
    "del df_feature2['Height(cm)']\n",
    "del df_feature2['Shoulder Circumference(cm)']\n",
    "del df_feature2['Weight(lbs)']\n",
    "\n",
    "print(\"Feature Set 2: \", df_feature2.columns.values[:-1]) # minus the last element, the comfort label\n",
    "print( \"Number of features in this set: \", df_feature2.shape[1] - 1) # minus 1 for the comfort label\n"
   ]
  },
  {
   "cell_type": "code",
   "execution_count": null,
   "metadata": {
    "ExecuteTime": {
     "end_time": "2019-06-27T02:58:17.603778Z",
     "start_time": "2019-06-27T02:58:17.593987Z"
    }
   },
   "outputs": [],
   "source": [
    "# Feature set 3\n",
    "df_feature3 =  df_feature1.copy()\n",
    "del df_feature3['SkinTemperature']\n",
    "del df_feature3['ClothingInsulation']\n",
    "del df_feature3['Gender']\n",
    "\n",
    "print(\"Feature Set 3: \", df_feature3.columns.values[:-1]) # minus the last element, the comfort label\n",
    "print( \"Number of features in this set: \", df_feature3.shape[1] - 1) # minus 1 for the comfort label\n"
   ]
  },
  {
   "cell_type": "code",
   "execution_count": null,
   "metadata": {
    "ExecuteTime": {
     "end_time": "2019-06-27T02:58:17.615342Z",
     "start_time": "2019-06-27T02:58:17.605006Z"
    }
   },
   "outputs": [],
   "source": [
    "# Feature set 4\n",
    "df_feature4 =  df_feature3.copy()\n",
    "del df_feature4['Height(cm)']\n",
    "del df_feature4['Shoulder Circumference(cm)']\n",
    "del df_feature4['Weight(lbs)']\n",
    "\n",
    "print(\"Feature Set 4: \", df_feature4.columns.values[:-1]) # minus the last element, the comfort label\n",
    "print( \"Number of features in this set: \", df_feature4.shape[1] - 1) # minus 1 for the comfort label\n"
   ]
  },
  {
   "cell_type": "code",
   "execution_count": null,
   "metadata": {
    "ExecuteTime": {
     "end_time": "2019-06-27T02:58:17.631640Z",
     "start_time": "2019-06-27T02:58:17.616478Z"
    }
   },
   "outputs": [],
   "source": [
    "# Feature set 5\n",
    "df_feature5 =  df_feature4.copy()\n",
    "del df_feature5['Temperature_outside']\n",
    "del df_feature5['Humidity_outside']\n",
    "\n",
    "print(\"Feature Set 3: \", df_feature5.columns.values[:-1]) # minus the last element, the comfort label\n",
    "print( \"Number of features in this set: \", df_feature5.shape[1] - 1) # minus 1 for the comfort label\n"
   ]
  },
  {
   "cell_type": "markdown",
   "metadata": {},
   "source": [
    "# Save dataframes as pickle"
   ]
  },
  {
   "cell_type": "code",
   "execution_count": null,
   "metadata": {
    "ExecuteTime": {
     "end_time": "2019-06-27T02:58:17.646032Z",
     "start_time": "2019-06-27T02:58:17.632972Z"
    }
   },
   "outputs": [],
   "source": [
    "# fileName = \"df_feature1\"\n",
    "# # open the file for writing\n",
    "# fileObject = open(fileName,'wb') \n",
    "\n",
    "# pickle.dump(df_feature1, fileObject)\n",
    "# fileObject.close()\n",
    "\n",
    "dataframes = [df_feature1, df_feature2, df_feature3, df_feature4, df_feature5]\n",
    "\n",
    "for i in range(1, 6):\n",
    "    fileName = \"df_feature\" + str(i) + \".pkl\"\n",
    "#     # open the file for writing\n",
    "#     fileObject = open(fileName,'wb') \n",
    "#     # write the respective file\n",
    "#     pickle.dump(dataframes[i - 1], fileObject)\n",
    "#     # close the file\n",
    "#     fileObject.close()\n",
    "    \n",
    "    dataframes[i - 1].to_pickle(fileName)\n"
   ]
  },
  {
   "cell_type": "code",
   "execution_count": null,
   "metadata": {},
   "outputs": [],
   "source": []
  }
 ],
 "metadata": {
  "kernelspec": {
   "display_name": "Python 3",
   "language": "python",
   "name": "python3"
  },
  "language_info": {
   "codemirror_mode": {
    "name": "ipython",
    "version": 3
   },
   "file_extension": ".py",
   "mimetype": "text/x-python",
   "name": "python",
   "nbconvert_exporter": "python",
   "pygments_lexer": "ipython3",
   "version": "3.7.3"
  },
  "toc": {
   "base_numbering": 1,
   "nav_menu": {},
   "number_sections": true,
   "sideBar": true,
   "skip_h1_title": false,
   "title_cell": "Table of Contents",
   "title_sidebar": "Contents",
   "toc_cell": false,
   "toc_position": {
    "height": "calc(100% - 180px)",
    "left": "10px",
    "top": "150px",
    "width": "333px"
   },
   "toc_section_display": true,
   "toc_window_display": true
  }
 },
 "nbformat": 4,
 "nbformat_minor": 2
}
