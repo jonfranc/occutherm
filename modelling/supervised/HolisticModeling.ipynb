{
 "cells": [
  {
   "cell_type": "markdown",
   "metadata": {},
   "source": [
    "# Libraries"
   ]
  },
  {
   "cell_type": "code",
   "execution_count": 1,
   "metadata": {
    "ExecuteTime": {
     "end_time": "2019-06-29T02:52:14.846495Z",
     "start_time": "2019-06-29T02:52:14.840772Z"
    }
   },
   "outputs": [],
   "source": [
    "# !pip install nbimporter # uncomment if library is not install\n"
   ]
  },
  {
   "cell_type": "code",
   "execution_count": 2,
   "metadata": {
    "ExecuteTime": {
     "end_time": "2019-06-29T02:52:15.658133Z",
     "start_time": "2019-06-29T02:52:14.852708Z"
    }
   },
   "outputs": [
    {
     "name": "stdout",
     "output_type": "stream",
     "text": [
      "Importing Jupyter notebook from Functions.ipynb\n"
     ]
    }
   ],
   "source": [
    "# Notebooks\n",
    "import nbimporter\n",
    "import os\n",
    "import sys\n",
    "\n",
    "module_path = os.path.abspath(os.path.join('..'))\n",
    "if module_path not in sys.path:\n",
    "    sys.path.append(module_path)\n",
    "\n",
    "# Functions Notebook\n",
    "from Functions import holisticsTrainTest, LOPOTrainTest, LOPO_cv\n",
    "from Functions import comfPMV, ppv, selectModelParameters, trainTest_tunedModel, buildTrainRF, buildTrainKNN\n",
    "from Functions import buildTrainSVM, buildTrainNB, buildMLP, getClfMetrics, saveModel\n",
    "\n",
    "# Pandas, matplotlib, pickle, seaborn\n",
    "import pickle\n",
    "import numpy as np\n",
    "import pandas as pd\n",
    "import seaborn as sns\n",
    "import matplotlib.pyplot as plt\n",
    "# from collections import Counter\n"
   ]
  },
  {
   "cell_type": "markdown",
   "metadata": {},
   "source": [
    "# Import dataframes"
   ]
  },
  {
   "cell_type": "code",
   "execution_count": 3,
   "metadata": {
    "ExecuteTime": {
     "end_time": "2019-06-29T02:52:15.667635Z",
     "start_time": "2019-06-29T02:52:15.659993Z"
    }
   },
   "outputs": [],
   "source": [
    "# Run the pre-processing notebook first to make sure the pickle files exist\n",
    "\n",
    "df_files = ['df_feature1', 'df_feature2', 'df_feature3', 'df_feature4', 'df_feature5']\n",
    "\n",
    "df_feature1 = pd.read_pickle(\"df_feature1.pkl\")\n",
    "df_feature2 = pd.read_pickle(\"df_feature2.pkl\")\n",
    "df_feature3 = pd.read_pickle(\"df_feature3.pkl\")\n",
    "df_feature4 = pd.read_pickle(\"df_feature4.pkl\")\n",
    "df_feature5 = pd.read_pickle(\"df_feature5.pkl\")\n"
   ]
  },
  {
   "cell_type": "code",
   "execution_count": 4,
   "metadata": {
    "ExecuteTime": {
     "end_time": "2019-06-29T02:52:15.715411Z",
     "start_time": "2019-06-29T02:52:15.669004Z"
    }
   },
   "outputs": [
    {
     "name": "stdout",
     "output_type": "stream",
     "text": [
      "Complete Participants: [1, 2, 4, 5, 6, 7, 8, 11, 12, 14, 15, 16, 17, 18, 19, 20, 21, 22, 23, 24, 25, 27, 29, 30, 31, 32, 33, 34, 35, 40, 41, 42, 43, 44, 45, 46, 49, 50, 51, 52, 54, 55, 57, 58, 59, 60, 61, 62, 63, 64, 65, 66, 67, 68, 70, 71, 72, 73, 74, 75, 76, 77, 78, 79, 80]\n",
      "Total number of complete participants: 65\n"
     ]
    }
   ],
   "source": [
    "df_aux_65 = pd.read_csv(\"../datasets/TCS_65_participants_outsideData.csv\", delimiter = \",\")\n",
    "\n",
    "# use_heuristics_participants = True\n",
    "\n",
    "list_complete_participants = list(df_aux_65['Participant_No'].unique())\n",
    "\n",
    "# if use_heuristics_participants:\n",
    "#     list_complete_participants.append(10)\n",
    "#     list_complete_participants.append(26)\n",
    "#     list_complete_participants.append(28)\n",
    "#     list_complete_participants.append(36)\n",
    "#     list_complete_participants.append(37)\n",
    "#     list_complete_participants.append(39)\n",
    "#     list_complete_participants.append(47)\n",
    "#     list_complete_participants.append(48)\n",
    "#     list_complete_participants.append(53)\n",
    "\n",
    "\n",
    "num_complete_participants = len(list_complete_participants)\n",
    "print(\"Complete Participants: {}\".format(list_complete_participants))\n",
    "print(\"Total number of complete participants: {}\".format(num_complete_participants))"
   ]
  },
  {
   "cell_type": "markdown",
   "metadata": {},
   "source": [
    "\n",
    "# Prepare train and test split"
   ]
  },
  {
   "cell_type": "markdown",
   "metadata": {},
   "source": [
    "We will divide the datasets into 80% for training and 20% for testing. With the training datset, 10fold cross validation will be usd to determined the hyperparameteres and validation will be used with the unseen test set. for the holistic approach, we will use the all votes without considering the participant number"
   ]
  },
  {
   "cell_type": "code",
   "execution_count": 5,
   "metadata": {
    "ExecuteTime": {
     "end_time": "2019-06-29T02:52:15.748696Z",
     "start_time": "2019-06-29T02:52:15.717122Z"
    }
   },
   "outputs": [
    {
     "name": "stdout",
     "output_type": "stream",
     "text": [
      "13\n",
      "Testing on participants:\n",
      "[ 4 40 41 43 57 58 61 64 68 70 71 73 80]\n",
      "13\n",
      "Testing on participants:\n",
      "[ 4 40 41 43 57 58 61 64 68 70 71 73 80]\n",
      "13\n",
      "Testing on participants:\n",
      "[ 4 40 41 43 57 58 61 64 68 70 71 73 80]\n",
      "13\n",
      "Testing on participants:\n",
      "[ 4 40 41 43 57 58 61 64 68 70 71 73 80]\n",
      "13\n",
      "Testing on participants:\n",
      "[ 4 40 41 43 57 58 61 64 68 70 71 73 80]\n",
      "Total number of instances: 2067\n",
      "Number of training instances: 1713\n",
      "Number of testing (validation) instances: 354\n"
     ]
    }
   ],
   "source": [
    "\n",
    "df_feature1_train, df_feature1_test, df_feature1_train_binary, df_feature1_test_binary = holisticsTrainTest(df_feature1, \n",
    "                                                                                                            list_complete_participants)\n",
    "\n",
    "\n",
    "df_feature2_train, df_feature2_test, df_feature2_train_binary, df_feature2_test_binary  = holisticsTrainTest(df_feature2, \n",
    "                                                                                                             list_complete_participants)\n",
    "\n",
    "df_feature3_train, df_feature3_test, df_feature3_train_binary, df_feature3_test_binary = holisticsTrainTest(df_feature3,\n",
    "                                                                                                           list_complete_participants)\n",
    "\n",
    "df_feature4_train, df_feature4_test, df_feature4_train_binary, df_feature4_test_binary = holisticsTrainTest(df_feature4,\n",
    "                                                                                                           list_complete_participants)\n",
    "\n",
    "df_feature5_train, df_feature5_test, df_feature5_train_binary, df_feature5_test_binary = holisticsTrainTest(df_feature5,\n",
    "                                                                                                            list_complete_participants)\n",
    "\n",
    "print(\"Total number of instances: {}\".format(df_feature1.shape[0]))\n",
    "\n",
    "print(\"Number of training instances: {}\".format(df_feature1_train.shape[0]))\n",
    "print(\"Number of testing (validation) instances: {}\".format(df_feature1_test.shape[0]))"
   ]
  },
  {
   "cell_type": "markdown",
   "metadata": {},
   "source": [
    "# PMV"
   ]
  },
  {
   "cell_type": "code",
   "execution_count": 6,
   "metadata": {
    "ExecuteTime": {
     "end_time": "2019-06-29T02:52:15.889590Z",
     "start_time": "2019-06-29T02:52:15.750269Z"
    }
   },
   "outputs": [
    {
     "name": "stdout",
     "output_type": "stream",
     "text": [
      "\n",
      "Accuracy (f1 micro) on test set:  0.3248587570621469\n",
      "F1 micro on test set:  0.3248587570621469\n",
      "F1 macro on test set:  0.1955856338783168\n",
      "\n",
      "Confusion Matrix: \n",
      "[[22  3  2  0  0]\n",
      " [59 32  8  0  0]\n",
      " [48 93 61  0  0]\n",
      " [ 0 15  7  0  0]\n",
      " [ 0  4  0  0  0]]\n",
      "\n",
      "Classification Metrics: \n",
      "              precision    recall  f1-score   support\n",
      "\n",
      "          -2       0.17      0.81      0.28        27\n",
      "          -1       0.22      0.32      0.26        99\n",
      "           0       0.78      0.30      0.44       202\n",
      "           1       0.00      0.00      0.00        22\n",
      "           2       0.00      0.00      0.00         4\n",
      "\n",
      "   micro avg       0.32      0.32      0.32       354\n",
      "   macro avg       0.23      0.29      0.20       354\n",
      "weighted avg       0.52      0.32      0.34       354\n",
      "\n",
      "\n",
      "Accuracy (f1 micro) on test set:  0.5536723163841808\n",
      "F1 micro on test set:  0.5536723163841808\n",
      "F1 macro on test set:  0.5332777036048064\n",
      "\n",
      "Confusion Matrix: \n",
      "[[ 61 141]\n",
      " [ 17 135]]\n",
      "\n",
      "Classification Metrics: \n",
      "              precision    recall  f1-score   support\n",
      "\n",
      "           0       0.78      0.30      0.44       202\n",
      "           1       0.49      0.89      0.63       152\n",
      "\n",
      "   micro avg       0.55      0.55      0.55       354\n",
      "   macro avg       0.64      0.60      0.53       354\n",
      "weighted avg       0.66      0.55      0.52       354\n",
      "\n",
      "\n",
      "Accuracy (f1 micro) on test set:  0.3248587570621469\n",
      "F1 micro on test set:  0.3248587570621469\n",
      "F1 macro on test set:  0.1955856338783168\n",
      "\n",
      "Confusion Matrix: \n",
      "[[22  3  2  0  0]\n",
      " [59 32  8  0  0]\n",
      " [48 93 61  0  0]\n",
      " [ 0 15  7  0  0]\n",
      " [ 0  4  0  0  0]]\n",
      "\n",
      "Classification Metrics: \n",
      "              precision    recall  f1-score   support\n",
      "\n",
      "          -2       0.17      0.81      0.28        27\n",
      "          -1       0.22      0.32      0.26        99\n",
      "           0       0.78      0.30      0.44       202\n",
      "           1       0.00      0.00      0.00        22\n",
      "           2       0.00      0.00      0.00         4\n",
      "\n",
      "   micro avg       0.32      0.32      0.32       354\n",
      "   macro avg       0.23      0.29      0.20       354\n",
      "weighted avg       0.52      0.32      0.34       354\n",
      "\n",
      "\n",
      "Accuracy (f1 micro) on test set:  0.5536723163841808\n",
      "F1 micro on test set:  0.5536723163841808\n",
      "F1 macro on test set:  0.5332777036048064\n",
      "\n",
      "Confusion Matrix: \n",
      "[[ 61 141]\n",
      " [ 17 135]]\n",
      "\n",
      "Classification Metrics: \n",
      "              precision    recall  f1-score   support\n",
      "\n",
      "           0       0.78      0.30      0.44       202\n",
      "           1       0.49      0.89      0.63       152\n",
      "\n",
      "   micro avg       0.55      0.55      0.55       354\n",
      "   macro avg       0.64      0.60      0.53       354\n",
      "weighted avg       0.66      0.55      0.52       354\n",
      "\n",
      "\n",
      "Accuracy (f1 micro) on test set:  0.559322033898305\n",
      "F1 micro on test set:  0.559322033898305\n",
      "F1 macro on test set:  0.25267690875232773\n",
      "\n",
      "Confusion Matrix: \n",
      "[[  1  24   2   0   0]\n",
      " [  8  79  12   0   0]\n",
      " [  0  84 118   0   0]\n",
      " [  0   2  20   0   0]\n",
      " [  0   0   4   0   0]]\n",
      "\n",
      "Classification Metrics: \n",
      "              precision    recall  f1-score   support\n",
      "\n",
      "          -2       0.11      0.04      0.06        27\n",
      "          -1       0.42      0.80      0.55        99\n",
      "           0       0.76      0.58      0.66       202\n",
      "           1       0.00      0.00      0.00        22\n",
      "           2       0.00      0.00      0.00         4\n",
      "\n",
      "   micro avg       0.56      0.56      0.56       354\n",
      "   macro avg       0.26      0.28      0.25       354\n",
      "weighted avg       0.56      0.56      0.53       354\n",
      "\n",
      "\n",
      "Accuracy (f1 micro) on test set:  0.655367231638418\n",
      "F1 micro on test set:  0.655367231638418\n",
      "F1 macro on test set:  0.6553232242617718\n",
      "\n",
      "Confusion Matrix: \n",
      "[[118  84]\n",
      " [ 38 114]]\n",
      "\n",
      "Classification Metrics: \n",
      "              precision    recall  f1-score   support\n",
      "\n",
      "           0       0.76      0.58      0.66       202\n",
      "           1       0.58      0.75      0.65       152\n",
      "\n",
      "   micro avg       0.66      0.66      0.66       354\n",
      "   macro avg       0.67      0.67      0.66       354\n",
      "weighted avg       0.68      0.66      0.66       354\n",
      "\n",
      "\n",
      "Accuracy (f1 micro) on test set:  0.559322033898305\n",
      "F1 micro on test set:  0.559322033898305\n",
      "F1 macro on test set:  0.25267690875232773\n",
      "\n",
      "Confusion Matrix: \n",
      "[[  1  24   2   0   0]\n",
      " [  8  79  12   0   0]\n",
      " [  0  84 118   0   0]\n",
      " [  0   2  20   0   0]\n",
      " [  0   0   4   0   0]]\n",
      "\n",
      "Classification Metrics: \n",
      "              precision    recall  f1-score   support\n",
      "\n",
      "          -2       0.11      0.04      0.06        27\n",
      "          -1       0.42      0.80      0.55        99\n",
      "           0       0.76      0.58      0.66       202\n",
      "           1       0.00      0.00      0.00        22\n",
      "           2       0.00      0.00      0.00         4\n",
      "\n",
      "   micro avg       0.56      0.56      0.56       354\n",
      "   macro avg       0.26      0.28      0.25       354\n",
      "weighted avg       0.56      0.56      0.53       354\n",
      "\n",
      "\n",
      "Accuracy (f1 micro) on test set:  0.655367231638418\n",
      "F1 micro on test set:  0.655367231638418\n",
      "F1 macro on test set:  0.6553232242617718\n",
      "\n",
      "Confusion Matrix: \n",
      "[[118  84]\n",
      " [ 38 114]]\n",
      "\n",
      "Classification Metrics: \n",
      "              precision    recall  f1-score   support\n",
      "\n",
      "           0       0.76      0.58      0.66       202\n",
      "           1       0.58      0.75      0.65       152\n",
      "\n",
      "   micro avg       0.66      0.66      0.66       354\n",
      "   macro avg       0.67      0.67      0.66       354\n",
      "weighted avg       0.68      0.66      0.66       354\n",
      "\n",
      "\n",
      "Accuracy (f1 micro) on test set:  0.559322033898305\n",
      "F1 micro on test set:  0.559322033898305\n",
      "F1 macro on test set:  0.25267690875232773\n",
      "\n",
      "Confusion Matrix: \n",
      "[[  1  24   2   0   0]\n",
      " [  8  79  12   0   0]\n",
      " [  0  84 118   0   0]\n",
      " [  0   2  20   0   0]\n",
      " [  0   0   4   0   0]]\n",
      "\n",
      "Classification Metrics: \n",
      "              precision    recall  f1-score   support\n",
      "\n",
      "          -2       0.11      0.04      0.06        27\n",
      "          -1       0.42      0.80      0.55        99\n",
      "           0       0.76      0.58      0.66       202\n",
      "           1       0.00      0.00      0.00        22\n",
      "           2       0.00      0.00      0.00         4\n",
      "\n",
      "   micro avg       0.56      0.56      0.56       354\n",
      "   macro avg       0.26      0.28      0.25       354\n",
      "weighted avg       0.56      0.56      0.53       354\n",
      "\n",
      "\n",
      "Accuracy (f1 micro) on test set:  0.655367231638418\n",
      "F1 micro on test set:  0.655367231638418\n",
      "F1 macro on test set:  0.6553232242617718\n",
      "\n",
      "Confusion Matrix: \n",
      "[[118  84]\n",
      " [ 38 114]]\n",
      "\n",
      "Classification Metrics: \n",
      "              precision    recall  f1-score   support\n",
      "\n",
      "           0       0.76      0.58      0.66       202\n",
      "           1       0.58      0.75      0.65       152\n",
      "\n",
      "   micro avg       0.66      0.66      0.66       354\n",
      "   macro avg       0.67      0.67      0.66       354\n",
      "weighted avg       0.68      0.66      0.66       354\n",
      "\n"
     ]
    },
    {
     "name": "stderr",
     "output_type": "stream",
     "text": [
      "/home/matias/anaconda3/lib/python3.7/site-packages/sklearn/metrics/classification.py:1143: UndefinedMetricWarning: F-score is ill-defined and being set to 0.0 in labels with no predicted samples.\n",
      "  'precision', 'predicted', average, warn_for)\n",
      "/home/matias/anaconda3/lib/python3.7/site-packages/sklearn/metrics/classification.py:1143: UndefinedMetricWarning: Precision and F-score are ill-defined and being set to 0.0 in labels with no predicted samples.\n",
      "  'precision', 'predicted', average, warn_for)\n",
      "/home/matias/anaconda3/lib/python3.7/site-packages/sklearn/metrics/classification.py:1143: UndefinedMetricWarning: Precision and F-score are ill-defined and being set to 0.0 in labels with no predicted samples.\n",
      "  'precision', 'predicted', average, warn_for)\n",
      "/home/matias/anaconda3/lib/python3.7/site-packages/sklearn/metrics/classification.py:1143: UndefinedMetricWarning: Precision and F-score are ill-defined and being set to 0.0 in labels with no predicted samples.\n",
      "  'precision', 'predicted', average, warn_for)\n",
      "/home/matias/anaconda3/lib/python3.7/site-packages/sklearn/metrics/classification.py:1143: UndefinedMetricWarning: F-score is ill-defined and being set to 0.0 in labels with no predicted samples.\n",
      "  'precision', 'predicted', average, warn_for)\n",
      "/home/matias/anaconda3/lib/python3.7/site-packages/sklearn/metrics/classification.py:1143: UndefinedMetricWarning: Precision and F-score are ill-defined and being set to 0.0 in labels with no predicted samples.\n",
      "  'precision', 'predicted', average, warn_for)\n",
      "/home/matias/anaconda3/lib/python3.7/site-packages/sklearn/metrics/classification.py:1143: UndefinedMetricWarning: Precision and F-score are ill-defined and being set to 0.0 in labels with no predicted samples.\n",
      "  'precision', 'predicted', average, warn_for)\n",
      "/home/matias/anaconda3/lib/python3.7/site-packages/sklearn/metrics/classification.py:1143: UndefinedMetricWarning: Precision and F-score are ill-defined and being set to 0.0 in labels with no predicted samples.\n",
      "  'precision', 'predicted', average, warn_for)\n",
      "/home/matias/anaconda3/lib/python3.7/site-packages/sklearn/metrics/classification.py:1143: UndefinedMetricWarning: F-score is ill-defined and being set to 0.0 in labels with no predicted samples.\n",
      "  'precision', 'predicted', average, warn_for)\n",
      "/home/matias/anaconda3/lib/python3.7/site-packages/sklearn/metrics/classification.py:1143: UndefinedMetricWarning: Precision and F-score are ill-defined and being set to 0.0 in labels with no predicted samples.\n",
      "  'precision', 'predicted', average, warn_for)\n",
      "/home/matias/anaconda3/lib/python3.7/site-packages/sklearn/metrics/classification.py:1143: UndefinedMetricWarning: Precision and F-score are ill-defined and being set to 0.0 in labels with no predicted samples.\n",
      "  'precision', 'predicted', average, warn_for)\n",
      "/home/matias/anaconda3/lib/python3.7/site-packages/sklearn/metrics/classification.py:1143: UndefinedMetricWarning: Precision and F-score are ill-defined and being set to 0.0 in labels with no predicted samples.\n",
      "  'precision', 'predicted', average, warn_for)\n",
      "/home/matias/anaconda3/lib/python3.7/site-packages/sklearn/metrics/classification.py:1143: UndefinedMetricWarning: F-score is ill-defined and being set to 0.0 in labels with no predicted samples.\n",
      "  'precision', 'predicted', average, warn_for)\n",
      "/home/matias/anaconda3/lib/python3.7/site-packages/sklearn/metrics/classification.py:1143: UndefinedMetricWarning: Precision and F-score are ill-defined and being set to 0.0 in labels with no predicted samples.\n",
      "  'precision', 'predicted', average, warn_for)\n",
      "/home/matias/anaconda3/lib/python3.7/site-packages/sklearn/metrics/classification.py:1143: UndefinedMetricWarning: Precision and F-score are ill-defined and being set to 0.0 in labels with no predicted samples.\n",
      "  'precision', 'predicted', average, warn_for)\n",
      "/home/matias/anaconda3/lib/python3.7/site-packages/sklearn/metrics/classification.py:1143: UndefinedMetricWarning: Precision and F-score are ill-defined and being set to 0.0 in labels with no predicted samples.\n",
      "  'precision', 'predicted', average, warn_for)\n",
      "/home/matias/anaconda3/lib/python3.7/site-packages/sklearn/metrics/classification.py:1143: UndefinedMetricWarning: F-score is ill-defined and being set to 0.0 in labels with no predicted samples.\n",
      "  'precision', 'predicted', average, warn_for)\n",
      "/home/matias/anaconda3/lib/python3.7/site-packages/sklearn/metrics/classification.py:1143: UndefinedMetricWarning: Precision and F-score are ill-defined and being set to 0.0 in labels with no predicted samples.\n",
      "  'precision', 'predicted', average, warn_for)\n",
      "/home/matias/anaconda3/lib/python3.7/site-packages/sklearn/metrics/classification.py:1143: UndefinedMetricWarning: Precision and F-score are ill-defined and being set to 0.0 in labels with no predicted samples.\n",
      "  'precision', 'predicted', average, warn_for)\n",
      "/home/matias/anaconda3/lib/python3.7/site-packages/sklearn/metrics/classification.py:1143: UndefinedMetricWarning: Precision and F-score are ill-defined and being set to 0.0 in labels with no predicted samples.\n",
      "  'precision', 'predicted', average, warn_for)\n"
     ]
    }
   ],
   "source": [
    "\"\"\"\n",
    "ta, air temperature (C)\n",
    "tr, mean radiant temperature (C)\n",
    "vel, relative air velocity (m/s)\n",
    "rh, relative humidity (%) Used only this way to input humidity level\n",
    "met, metabolic rate (met)\n",
    "clo, clothing (clo)\n",
    "wme, external work, normally around 0 (met)\n",
    "\"\"\"\n",
    "\n",
    "# technically any df_featureX_test can be used since the only difference between them is the amount of columns they have\n",
    "ta = (df_feature1_test['Temperature (Fahrenheit)']  - 32) * 5 / 9\n",
    "ta = ta.reset_index(drop=True)\n",
    "tr = 25 # standard\n",
    "vel = 0.2 # standard\n",
    "rh = 0.60 # standard\n",
    "met = 1.1 # standard\n",
    "clo = df_feature1_test['ClothingInsulation'] # standard is 0.8\n",
    "clo = clo.reset_index(drop=True)\n",
    "wme = 0\n",
    "\n",
    "holistic_pmv_list = []\n",
    "\n",
    "for i in range(df_feature1_test.shape[0]):\n",
    "    pmv, ppd = comfPMV(ta[i], tr, vel, rh, met, clo[i], wme)\n",
    "    holistic_pmv_list.append(round(pmv,0))\n",
    "    \n",
    "# print(holistic_pmv_list) # TODO: debugging\n",
    "holistic_pmv_array = np.array(holistic_pmv_list)\n",
    "# clip to -2,+2\n",
    "holistic_pmv_array = np.clip(holistic_pmv_array, a_min = -2, a_max = 2) \n",
    "\n",
    "# remap for binary pmv\n",
    "holistic_pmv_array_binary = pd.DataFrame(holistic_pmv_list)\n",
    "holistic_pmv_array_binary = holistic_pmv_array_binary.iloc[:,0].map(lambda x: 1 if x != 0 else 0)\n",
    "holistic_pmv_array_binary = np.array(holistic_pmv_array_binary)\n",
    "\n",
    "pmv_holistic_1_acc = getClfMetrics(df_feature1_test['Discrete Thermal Comfort_TA'], holistic_pmv_array)\n",
    "pmv_holistic_1_acc_binary = getClfMetrics(df_feature1_test_binary['Discrete Thermal Comfort_TA'], \n",
    "                                          holistic_pmv_array_binary)\n",
    "\n",
    "pmv_holistic_2_acc = getClfMetrics(df_feature2_test['Discrete Thermal Comfort_TA'], holistic_pmv_array)\n",
    "pmv_holistic_2_acc_binary = getClfMetrics(df_feature2_test_binary['Discrete Thermal Comfort_TA'], \n",
    "                                          holistic_pmv_array_binary)\n",
    "\n",
    "# no measured clo value\n",
    "clo = 0.8\n",
    "holistic_pmv_list = []\n",
    "# recompute of pmv\n",
    "for i in range(df_feature1_test.shape[0]):\n",
    "    pmv, ppd = comfPMV(ta[i], tr, vel, rh, met, clo, wme)\n",
    "    holistic_pmv_list.append(round(pmv,0))\n",
    "\n",
    "holistic_pmv_array_noclo = np.array(holistic_pmv_list)\n",
    "# clip to -2,+2\n",
    "holistic_pmv_array_noclo = np.clip(holistic_pmv_array_noclo, a_min = -2, a_max = 2) \n",
    "\n",
    "# remap for binary pmv\n",
    "holistic_pmv_array_noclo_binary = pd.DataFrame(holistic_pmv_array_noclo)\n",
    "holistic_pmv_array_noclo_binary = holistic_pmv_array_noclo_binary.iloc[:,0].map(lambda x: 1 if x != 0 else 0)\n",
    "holistic_pmv_array_noclo_binary = np.array(holistic_pmv_array_noclo_binary)\n",
    "\n",
    "pmv_holistic_3_acc = getClfMetrics(df_feature3_test['Discrete Thermal Comfort_TA'], holistic_pmv_array_noclo)\n",
    "pmv_holistic_3_acc_binary = getClfMetrics(df_feature3_test_binary['Discrete Thermal Comfort_TA'], \n",
    "                                          holistic_pmv_array_noclo_binary)\n",
    "\n",
    "pmv_holistic_4_acc = getClfMetrics(df_feature4_test['Discrete Thermal Comfort_TA'], holistic_pmv_array_noclo)\n",
    "pmv_holistic_4_acc_binary = getClfMetrics(df_feature4_test_binary['Discrete Thermal Comfort_TA'], \n",
    "                                          holistic_pmv_array_noclo_binary)\n",
    "\n",
    "pmv_holistic_5_acc = getClfMetrics(df_feature5_test['Discrete Thermal Comfort_TA'], holistic_pmv_array_noclo)\n",
    "pmv_holistic_5_acc_binary = getClfMetrics(df_feature5_test_binary['Discrete Thermal Comfort_TA'], \n",
    "                                          holistic_pmv_array_noclo_binary)\n",
    "\n"
   ]
  },
  {
   "cell_type": "markdown",
   "metadata": {},
   "source": [
    "# PPV"
   ]
  },
  {
   "cell_type": "markdown",
   "metadata": {},
   "source": [
    "ppv(x) = pmv(x) + personal(x)\n",
    "\n",
    "personal(x) = a'.x + b\n",
    "\n",
    "a={a_temp, a_radiant, a_velocity, a_humidity, a_metabolic, a_clothing}"
   ]
  },
  {
   "cell_type": "code",
   "execution_count": null,
   "metadata": {
    "ExecuteTime": {
     "start_time": "2019-06-29T02:52:10.511Z"
    }
   },
   "outputs": [],
   "source": [
    "ta_1 = (df_feature1_test['Temperature (Fahrenheit)']  - 32) * 5 / 9 \n",
    "ta_1 = ta_1.reset_index(drop=True)\n",
    "\n",
    "ta_2 = (df_feature2_test['Temperature (Fahrenheit)']  - 32) * 5 / 9 \n",
    "ta_2 = ta_2.reset_index(drop=True)\n",
    "\n",
    "ta_3 = (df_feature3_test['Temperature (Fahrenheit)']  - 32) * 5 / 9 \n",
    "ta_3 = ta_3.reset_index(drop=True)\n",
    "\n",
    "ta_4 = (df_feature4_test['Temperature (Fahrenheit)']  - 32) * 5 / 9 \n",
    "ta_4 = ta_4.reset_index(drop=True)\n",
    "\n",
    "ta_5 = (df_feature5_test['Temperature (Fahrenheit)']  - 32) * 5 / 9 \n",
    "ta_5 = ta_5.reset_index(drop=True)\n",
    "\n",
    "tr = 25 # standard\n",
    "vel = 0.2 # standard\n",
    "rh = 0.60 # standard\n",
    "met = 1.1 # standard\n",
    "wme = 0\n",
    "\n",
    "clo_1 = df_feature1_test['ClothingInsulation'] # standard is 0.8\n",
    "clo_1 = clo_1.reset_index(drop=True)\n",
    "\n",
    "clo_2 = df_feature2_test['ClothingInsulation'] # standard is 0.8\n",
    "clo_2 = clo_2.reset_index(drop=True)\n",
    "\n",
    "clo_3 = 0.8 # standard is 0.8\n",
    "\n",
    "clo_4 = 0.8 # standard is 0.8\n",
    "\n",
    "clo_5 = 0.8 # standard is 0.8\n"
   ]
  },
  {
   "cell_type": "code",
   "execution_count": null,
   "metadata": {
    "ExecuteTime": {
     "start_time": "2019-06-29T02:52:10.516Z"
    }
   },
   "outputs": [
    {
     "name": "stdout",
     "output_type": "stream",
     "text": [
      "\n",
      "Accuracy (f1 micro) on test set:  0.2909604519774011\n",
      "F1 micro on test set:  0.2909604519774011\n",
      "F1 macro on test set:  0.24457681824394467\n",
      "\n",
      "Confusion Matrix: \n",
      "[[27  0  0  0  0]\n",
      " [91  8  0  0  0]\n",
      " [48 93 61  0  0]\n",
      " [ 0  0 15  7  0]\n",
      " [ 0  0  0  4  0]]\n",
      "\n",
      "Classification Metrics: \n",
      "              precision    recall  f1-score   support\n",
      "\n",
      "          -2       0.16      1.00      0.28        27\n",
      "          -1       0.08      0.08      0.08        99\n",
      "           0       0.80      0.30      0.44       202\n",
      "           1       0.64      0.32      0.42        22\n",
      "           2       0.00      0.00      0.00         4\n",
      "\n",
      "   micro avg       0.29      0.29      0.29       354\n",
      "   macro avg       0.34      0.34      0.24       354\n",
      "weighted avg       0.53      0.29      0.32       354\n",
      "\n",
      "\n",
      "Accuracy (f1 micro) on test set:  0.6016949152542372\n",
      "F1 micro on test set:  0.6016949152542372\n",
      "F1 macro on test set:  0.573512197205964\n",
      "\n",
      "Confusion Matrix: \n",
      "[[ 61 141]\n",
      " [  0 152]]\n",
      "\n",
      "Classification Metrics: \n",
      "              precision    recall  f1-score   support\n",
      "\n",
      "           0       1.00      0.30      0.46       202\n",
      "           1       0.52      1.00      0.68       152\n",
      "\n",
      "   micro avg       0.60      0.60      0.60       354\n",
      "   macro avg       0.76      0.65      0.57       354\n",
      "weighted avg       0.79      0.60      0.56       354\n",
      "\n",
      "\n",
      "Accuracy (f1 micro) on test set:  0.2909604519774011\n",
      "F1 micro on test set:  0.2909604519774011\n",
      "F1 macro on test set:  0.24457681824394467\n",
      "\n",
      "Confusion Matrix: \n",
      "[[27  0  0  0  0]\n",
      " [91  8  0  0  0]\n",
      " [48 93 61  0  0]\n",
      " [ 0  0 15  7  0]\n",
      " [ 0  0  0  4  0]]\n",
      "\n",
      "Classification Metrics: \n"
     ]
    },
    {
     "name": "stderr",
     "output_type": "stream",
     "text": [
      "/home/matias/anaconda3/lib/python3.7/site-packages/sklearn/metrics/classification.py:1143: UndefinedMetricWarning: F-score is ill-defined and being set to 0.0 in labels with no predicted samples.\n",
      "  'precision', 'predicted', average, warn_for)\n",
      "/home/matias/anaconda3/lib/python3.7/site-packages/sklearn/metrics/classification.py:1143: UndefinedMetricWarning: Precision and F-score are ill-defined and being set to 0.0 in labels with no predicted samples.\n",
      "  'precision', 'predicted', average, warn_for)\n",
      "/home/matias/anaconda3/lib/python3.7/site-packages/sklearn/metrics/classification.py:1143: UndefinedMetricWarning: Precision and F-score are ill-defined and being set to 0.0 in labels with no predicted samples.\n",
      "  'precision', 'predicted', average, warn_for)\n",
      "/home/matias/anaconda3/lib/python3.7/site-packages/sklearn/metrics/classification.py:1143: UndefinedMetricWarning: Precision and F-score are ill-defined and being set to 0.0 in labels with no predicted samples.\n",
      "  'precision', 'predicted', average, warn_for)\n",
      "/home/matias/anaconda3/lib/python3.7/site-packages/sklearn/metrics/classification.py:1143: UndefinedMetricWarning: F-score is ill-defined and being set to 0.0 in labels with no predicted samples.\n",
      "  'precision', 'predicted', average, warn_for)\n",
      "/home/matias/anaconda3/lib/python3.7/site-packages/sklearn/metrics/classification.py:1143: UndefinedMetricWarning: Precision and F-score are ill-defined and being set to 0.0 in labels with no predicted samples.\n",
      "  'precision', 'predicted', average, warn_for)\n",
      "/home/matias/anaconda3/lib/python3.7/site-packages/sklearn/metrics/classification.py:1143: UndefinedMetricWarning: Precision and F-score are ill-defined and being set to 0.0 in labels with no predicted samples.\n",
      "  'precision', 'predicted', average, warn_for)\n"
     ]
    },
    {
     "name": "stdout",
     "output_type": "stream",
     "text": [
      "              precision    recall  f1-score   support\n",
      "\n",
      "          -2       0.16      1.00      0.28        27\n",
      "          -1       0.08      0.08      0.08        99\n",
      "           0       0.80      0.30      0.44       202\n",
      "           1       0.64      0.32      0.42        22\n",
      "           2       0.00      0.00      0.00         4\n",
      "\n",
      "   micro avg       0.29      0.29      0.29       354\n",
      "   macro avg       0.34      0.34      0.24       354\n",
      "weighted avg       0.53      0.29      0.32       354\n",
      "\n",
      "\n",
      "Accuracy (f1 micro) on test set:  0.6016949152542372\n",
      "F1 micro on test set:  0.6016949152542372\n",
      "F1 macro on test set:  0.573512197205964\n",
      "\n",
      "Confusion Matrix: \n",
      "[[ 61 141]\n",
      " [  0 152]]\n",
      "\n",
      "Classification Metrics: \n",
      "              precision    recall  f1-score   support\n",
      "\n",
      "           0       1.00      0.30      0.46       202\n",
      "           1       0.52      1.00      0.68       152\n",
      "\n",
      "   micro avg       0.60      0.60      0.60       354\n",
      "   macro avg       0.76      0.65      0.57       354\n",
      "weighted avg       0.79      0.60      0.56       354\n",
      "\n",
      "\n",
      "Accuracy (f1 micro) on test set:  0.5112994350282486\n",
      "F1 micro on test set:  0.5112994350282486\n",
      "F1 macro on test set:  0.6382711707041031\n",
      "\n",
      "Confusion Matrix: \n",
      "[[ 27   0   0   0   0]\n",
      " [ 87  12   0   0   0]\n",
      " [  0  84 118   0   0]\n",
      " [  0   0   2  20   0]\n",
      " [  0   0   0   0   4]]\n",
      "\n",
      "Classification Metrics: \n",
      "              precision    recall  f1-score   support\n",
      "\n",
      "          -2       0.24      1.00      0.38        27\n",
      "          -1       0.12      0.12      0.12        99\n",
      "           0       0.98      0.58      0.73       202\n",
      "           1       1.00      0.91      0.95        22\n",
      "           2       1.00      1.00      1.00         4\n",
      "\n",
      "   micro avg       0.51      0.51      0.51       354\n",
      "   macro avg       0.67      0.72      0.64       354\n",
      "weighted avg       0.69      0.51      0.55       354\n",
      "\n",
      "\n",
      "Accuracy (f1 micro) on test set:  0.7627118644067796\n",
      "F1 micro on test set:  0.7627118644067796\n",
      "F1 macro on test set:  0.7605025773195875\n",
      "\n",
      "Confusion Matrix: \n",
      "[[118  84]\n",
      " [  0 152]]\n",
      "\n",
      "Classification Metrics: \n",
      "              precision    recall  f1-score   support\n",
      "\n",
      "           0       1.00      0.58      0.74       202\n",
      "           1       0.64      1.00      0.78       152\n",
      "\n",
      "   micro avg       0.76      0.76      0.76       354\n",
      "   macro avg       0.82      0.79      0.76       354\n",
      "weighted avg       0.85      0.76      0.76       354\n",
      "\n",
      "\n",
      "Accuracy (f1 micro) on test set:  0.5112994350282486\n",
      "F1 micro on test set:  0.5112994350282486\n",
      "F1 macro on test set:  0.6382711707041031\n",
      "\n",
      "Confusion Matrix: \n",
      "[[ 27   0   0   0   0]\n",
      " [ 87  12   0   0   0]\n",
      " [  0  84 118   0   0]\n",
      " [  0   0   2  20   0]\n",
      " [  0   0   0   0   4]]\n",
      "\n",
      "Classification Metrics: \n",
      "              precision    recall  f1-score   support\n",
      "\n",
      "          -2       0.24      1.00      0.38        27\n",
      "          -1       0.12      0.12      0.12        99\n",
      "           0       0.98      0.58      0.73       202\n",
      "           1       1.00      0.91      0.95        22\n",
      "           2       1.00      1.00      1.00         4\n",
      "\n",
      "   micro avg       0.51      0.51      0.51       354\n",
      "   macro avg       0.67      0.72      0.64       354\n",
      "weighted avg       0.69      0.51      0.55       354\n",
      "\n",
      "\n",
      "Accuracy (f1 micro) on test set:  0.7627118644067796\n",
      "F1 micro on test set:  0.7627118644067796\n",
      "F1 macro on test set:  0.7605025773195875\n",
      "\n",
      "Confusion Matrix: \n",
      "[[118  84]\n",
      " [  0 152]]\n",
      "\n",
      "Classification Metrics: \n",
      "              precision    recall  f1-score   support\n",
      "\n",
      "           0       1.00      0.58      0.74       202\n",
      "           1       0.64      1.00      0.78       152\n",
      "\n",
      "   micro avg       0.76      0.76      0.76       354\n",
      "   macro avg       0.82      0.79      0.76       354\n",
      "weighted avg       0.85      0.76      0.76       354\n",
      "\n",
      "\n",
      "Accuracy (f1 micro) on test set:  0.5112994350282486\n",
      "F1 micro on test set:  0.5112994350282486\n",
      "F1 macro on test set:  0.6382711707041031\n",
      "\n",
      "Confusion Matrix: \n",
      "[[ 27   0   0   0   0]\n",
      " [ 87  12   0   0   0]\n",
      " [  0  84 118   0   0]\n",
      " [  0   0   2  20   0]\n",
      " [  0   0   0   0   4]]\n",
      "\n",
      "Classification Metrics: \n",
      "              precision    recall  f1-score   support\n",
      "\n",
      "          -2       0.24      1.00      0.38        27\n",
      "          -1       0.12      0.12      0.12        99\n",
      "           0       0.98      0.58      0.73       202\n",
      "           1       1.00      0.91      0.95        22\n",
      "           2       1.00      1.00      1.00         4\n",
      "\n",
      "   micro avg       0.51      0.51      0.51       354\n",
      "   macro avg       0.67      0.72      0.64       354\n",
      "weighted avg       0.69      0.51      0.55       354\n",
      "\n",
      "\n",
      "Accuracy (f1 micro) on test set:  0.7627118644067796\n",
      "F1 micro on test set:  0.7627118644067796\n",
      "F1 macro on test set:  0.7605025773195875\n",
      "\n",
      "Confusion Matrix: \n",
      "[[118  84]\n",
      " [  0 152]]\n",
      "\n",
      "Classification Metrics: \n",
      "              precision    recall  f1-score   support\n",
      "\n",
      "           0       1.00      0.58      0.74       202\n",
      "           1       0.64      1.00      0.78       152\n",
      "\n",
      "   micro avg       0.76      0.76      0.76       354\n",
      "   macro avg       0.82      0.79      0.76       354\n",
      "weighted avg       0.85      0.76      0.76       354\n",
      "\n"
     ]
    },
    {
     "name": "stderr",
     "output_type": "stream",
     "text": [
      "/home/matias/anaconda3/lib/python3.7/site-packages/sklearn/metrics/classification.py:1143: UndefinedMetricWarning: Precision and F-score are ill-defined and being set to 0.0 in labels with no predicted samples.\n",
      "  'precision', 'predicted', average, warn_for)\n"
     ]
    }
   ],
   "source": [
    "ppv_1_acc = ppv(holistic_pmv_array, df_feature1_train, df_feature1_test, ta_1, tr, vel, rh, met, clo_1)\n",
    "ppv_1_acc_binary = ppv(holistic_pmv_array_binary, df_feature1_train_binary, df_feature1_test_binary, ta_1, tr, vel, rh, \n",
    "                            met, clo_1, binary=True)\n",
    "\n",
    "ppv_2_acc = ppv(holistic_pmv_array, df_feature2_train, df_feature1_test, ta_2, tr, vel, rh, met, clo_2)\n",
    "ppv_2_acc_binary = ppv(holistic_pmv_array_binary, df_feature2_train_binary, df_feature1_test_binary, ta_2, tr, vel, rh, \n",
    "                            met, clo_2, binary=True)\n",
    "\n",
    "ppv_3_acc = ppv(holistic_pmv_array_noclo, df_feature3_train, df_feature1_test, ta_3, tr, vel, rh, met, clo_3, no_clo=True)\n",
    "ppv_3_acc_binary = ppv(holistic_pmv_array_noclo_binary, df_feature3_train_binary, df_feature1_test_binary, ta_3, tr, vel, rh,\n",
    "                            met, clo_3, binary=True, no_clo=True)\n",
    "\n",
    "ppv_4_acc = ppv(holistic_pmv_array_noclo, df_feature4_train, df_feature1_test, ta_4, tr, vel, rh, met, clo_4, no_clo=True)\n",
    "ppv_4_acc_binary = ppv(holistic_pmv_array_noclo_binary, df_feature4_train_binary, df_feature1_test_binary, ta_4, tr, vel, rh, \n",
    "                            met, clo_4, binary=True, no_clo=True)\n",
    "\n",
    "ppv_5_acc = ppv(holistic_pmv_array_noclo, df_feature5_train, df_feature1_test, ta_5, tr, vel, rh, met, clo_5, no_clo=True)\n",
    "ppv_5_acc_binary = ppv(holistic_pmv_array_noclo_binary, df_feature5_train_binary, df_feature1_test_binary, ta_5, tr, vel, rh, \n",
    "                            met, clo_5, binary=True, no_clo=True)\n"
   ]
  },
  {
   "cell_type": "markdown",
   "metadata": {},
   "source": [
    "# Majority-Class Model"
   ]
  },
  {
   "cell_type": "code",
   "execution_count": null,
   "metadata": {
    "ExecuteTime": {
     "start_time": "2019-06-29T02:52:10.520Z"
    }
   },
   "outputs": [
    {
     "name": "stdout",
     "output_type": "stream",
     "text": [
      "\n",
      "Accuracy (f1 micro) on test set:  0.5706214689265536\n",
      "F1 micro on test set:  0.5706214689265536\n",
      "F1 macro on test set:  0.14532374100719422\n",
      "\n",
      "Confusion Matrix: \n",
      "[[  0   0  27   0   0]\n",
      " [  0   0  99   0   0]\n",
      " [  0   0 202   0   0]\n",
      " [  0   0  22   0   0]\n",
      " [  0   0   4   0   0]]\n",
      "\n",
      "Classification Metrics: \n",
      "              precision    recall  f1-score   support\n",
      "\n",
      "          -2       0.00      0.00      0.00        27\n",
      "          -1       0.00      0.00      0.00        99\n",
      "           0       0.57      1.00      0.73       202\n",
      "           1       0.00      0.00      0.00        22\n",
      "           2       0.00      0.00      0.00         4\n",
      "\n",
      "   micro avg       0.57      0.57      0.57       354\n",
      "   macro avg       0.11      0.20      0.15       354\n",
      "weighted avg       0.33      0.57      0.41       354\n",
      "\n",
      "\n",
      "Accuracy (f1 micro) on test set:  0.5706214689265536\n",
      "F1 micro on test set:  0.5706214689265536\n",
      "F1 macro on test set:  0.3633093525179856\n",
      "\n",
      "Confusion Matrix: \n",
      "[[202   0]\n",
      " [152   0]]\n",
      "\n",
      "Classification Metrics: \n",
      "              precision    recall  f1-score   support\n",
      "\n",
      "           0       0.57      1.00      0.73       202\n",
      "           1       0.00      0.00      0.00       152\n",
      "\n",
      "   micro avg       0.57      0.57      0.57       354\n",
      "   macro avg       0.29      0.50      0.36       354\n",
      "weighted avg       0.33      0.57      0.41       354\n",
      "\n"
     ]
    },
    {
     "name": "stderr",
     "output_type": "stream",
     "text": [
      "/home/matias/anaconda3/lib/python3.7/site-packages/sklearn/metrics/classification.py:1143: UndefinedMetricWarning: F-score is ill-defined and being set to 0.0 in labels with no predicted samples.\n",
      "  'precision', 'predicted', average, warn_for)\n",
      "/home/matias/anaconda3/lib/python3.7/site-packages/sklearn/metrics/classification.py:1143: UndefinedMetricWarning: Precision and F-score are ill-defined and being set to 0.0 in labels with no predicted samples.\n",
      "  'precision', 'predicted', average, warn_for)\n",
      "/home/matias/anaconda3/lib/python3.7/site-packages/sklearn/metrics/classification.py:1143: UndefinedMetricWarning: Precision and F-score are ill-defined and being set to 0.0 in labels with no predicted samples.\n",
      "  'precision', 'predicted', average, warn_for)\n",
      "/home/matias/anaconda3/lib/python3.7/site-packages/sklearn/metrics/classification.py:1143: UndefinedMetricWarning: Precision and F-score are ill-defined and being set to 0.0 in labels with no predicted samples.\n",
      "  'precision', 'predicted', average, warn_for)\n",
      "/home/matias/anaconda3/lib/python3.7/site-packages/sklearn/metrics/classification.py:1143: UndefinedMetricWarning: F-score is ill-defined and being set to 0.0 in labels with no predicted samples.\n",
      "  'precision', 'predicted', average, warn_for)\n",
      "/home/matias/anaconda3/lib/python3.7/site-packages/sklearn/metrics/classification.py:1143: UndefinedMetricWarning: Precision and F-score are ill-defined and being set to 0.0 in labels with no predicted samples.\n",
      "  'precision', 'predicted', average, warn_for)\n",
      "/home/matias/anaconda3/lib/python3.7/site-packages/sklearn/metrics/classification.py:1143: UndefinedMetricWarning: Precision and F-score are ill-defined and being set to 0.0 in labels with no predicted samples.\n",
      "  'precision', 'predicted', average, warn_for)\n",
      "/home/matias/anaconda3/lib/python3.7/site-packages/sklearn/metrics/classification.py:1143: UndefinedMetricWarning: Precision and F-score are ill-defined and being set to 0.0 in labels with no predicted samples.\n",
      "  'precision', 'predicted', average, warn_for)\n"
     ]
    }
   ],
   "source": [
    "# majority class is the comfort label 0\n",
    "base_model_pred = np.zeros(int(len(df_feature1_test)))\n",
    "\n",
    "# get the label from the test dataframe\n",
    "y_test = np.array(df_feature1_test['Discrete Thermal Comfort_TA'])\n",
    "\n",
    "majority_class_acc = getClfMetrics(y_test, base_model_pred)\n",
    "\n",
    "# majority class binary\n",
    "base_model_pred_binary = np.zeros(int(len(df_feature1_test_binary)))\n",
    "\n",
    "# get the label from the test dataframe\n",
    "y_test = np.array(df_feature1_test_binary['Discrete Thermal Comfort_TA'])\n",
    "\n",
    "majority_class_acc_binary = getClfMetrics(y_test, base_model_pred_binary)\n"
   ]
  },
  {
   "cell_type": "markdown",
   "metadata": {},
   "source": [
    "# RF"
   ]
  },
  {
   "cell_type": "code",
   "execution_count": null,
   "metadata": {
    "ExecuteTime": {
     "start_time": "2019-06-29T02:52:10.525Z"
    }
   },
   "outputs": [
    {
     "name": "stdout",
     "output_type": "stream",
     "text": [
      "Features: ['Temperature (Fahrenheit)' 'SkinTemperature' 'ClothingInsulation'\n",
      " 'Height(cm)' 'Shoulder Circumference(cm)' 'Weight(lbs)' 'Gender'\n",
      " 'Temperature_outside' 'Humidity_outside']\n",
      "Number of folds: 10\n"
     ]
    },
    {
     "name": "stderr",
     "output_type": "stream",
     "text": [
      "/home/matias/anaconda3/lib/python3.7/site-packages/sklearn/model_selection/_search.py:841: DeprecationWarning: The default of the `iid` parameter will change from True to False in version 0.22 and will be removed in 0.24. This will change numeric results when test-set sizes are unequal.\n",
      "  DeprecationWarning)\n"
     ]
    },
    {
     "name": "stdout",
     "output_type": "stream",
     "text": [
      "Best parameters set found on development set:\n",
      "{'class_weight': 'balanced_subsample', 'criterion': 'gini', 'min_samples_split': 2, 'n_estimators': 1000}\n",
      "Finding optimal tree depth\n"
     ]
    },
    {
     "name": "stderr",
     "output_type": "stream",
     "text": [
      "No handles with labels found to put in legend.\n"
     ]
    },
    {
     "name": "stdout",
     "output_type": "stream",
     "text": [
      "The optimal depth is:  13 \n",
      "\n",
      "Expected accuracy (f1 micro) based on Cross-Validation:  0.738814569150666 \n",
      "\n"
     ]
    },
    {
     "data": {
      "image/png": "[encoded data removed]",
      "text/plain": [
       "<Figure size 864x720 with 1 Axes>"
      ]
     },
     "metadata": {
      "needs_background": "light"
     },
     "output_type": "display_data"
    },
    {
     "name": "stdout",
     "output_type": "stream",
     "text": [
      "RandomForestClassifier(bootstrap=True, class_weight='balanced_subsample',\n",
      "            criterion='gini', max_depth=13, max_features='auto',\n",
      "            max_leaf_nodes=None, min_impurity_decrease=0.0,\n",
      "            min_impurity_split=None, min_samples_leaf=1,\n",
      "            min_samples_split=2, min_weight_fraction_leaf=0.0,\n",
      "            n_estimators=1000, n_jobs=None, oob_score=False,\n",
      "            random_state=100, verbose=0, warm_start=False)\n",
      "\n",
      "Accuracy (f1 micro) on test set:  0.7201166180758017\n",
      "F1 micro on test set:  0.7201166180758017\n",
      "F1 macro on test set:  0.5757540078362098\n",
      "\n",
      "Confusion Matrix: \n",
      "[[ 23  14   1   0   0]\n",
      " [ 13  34  23   0   1]\n",
      " [  1  15 168   6   0]\n",
      " [  0   0  14  20   1]\n",
      " [  0   0   2   5   2]]\n",
      "\n",
      "Classification Metrics: \n",
      "              precision    recall  f1-score   support\n",
      "\n",
      "          -2       0.62      0.61      0.61        38\n",
      "          -1       0.54      0.48      0.51        71\n",
      "           0       0.81      0.88      0.84       190\n",
      "           1       0.65      0.57      0.61        35\n",
      "           2       0.50      0.22      0.31         9\n",
      "\n",
      "   micro avg       0.72      0.72      0.72       343\n",
      "   macro avg       0.62      0.55      0.58       343\n",
      "weighted avg       0.71      0.72      0.71       343\n",
      "\n",
      "Features: ['Temperature (Fahrenheit)' 'SkinTemperature' 'ClothingInsulation'\n",
      " 'Height(cm)' 'Shoulder Circumference(cm)' 'Weight(lbs)' 'Gender'\n",
      " 'Temperature_outside' 'Humidity_outside']\n",
      "Number of folds: 10\n",
      "Best parameters set found on development set:\n",
      "{'class_weight': 'balanced', 'criterion': 'entropy', 'min_samples_split': 2, 'n_estimators': 100}\n",
      "Finding optimal tree depth\n"
     ]
    },
    {
     "name": "stderr",
     "output_type": "stream",
     "text": [
      "No handles with labels found to put in legend.\n"
     ]
    },
    {
     "name": "stdout",
     "output_type": "stream",
     "text": [
      "The optimal depth is:  16 \n",
      "\n",
      "Expected accuracy (f1 micro) based on Cross-Validation:  0.8116788321167883 \n",
      "\n"
     ]
    },
    {
     "data": {
      "image/png": "[encoded data removed]",
      "text/plain": [
       "<Figure size 864x720 with 1 Axes>"
      ]
     },
     "metadata": {
      "needs_background": "light"
     },
     "output_type": "display_data"
    },
    {
     "name": "stdout",
     "output_type": "stream",
     "text": [
      "RandomForestClassifier(bootstrap=True, class_weight='balanced',\n",
      "            criterion='entropy', max_depth=16, max_features='auto',\n",
      "            max_leaf_nodes=None, min_impurity_decrease=0.0,\n",
      "            min_impurity_split=None, min_samples_leaf=1,\n",
      "            min_samples_split=2, min_weight_fraction_leaf=0.0,\n",
      "            n_estimators=100, n_jobs=None, oob_score=False,\n",
      "            random_state=100, verbose=0, warm_start=False)\n",
      "\n",
      "Accuracy (f1 micro) on test set:  0.7959183673469388\n",
      "F1 micro on test set:  0.7959183673469388\n",
      "F1 macro on test set:  0.7929601269315674\n",
      "\n",
      "Confusion Matrix: \n",
      "[[157  33]\n",
      " [ 37 116]]\n",
      "\n",
      "Classification Metrics: \n",
      "              precision    recall  f1-score   support\n",
      "\n",
      "           0       0.81      0.83      0.82       190\n",
      "           1       0.78      0.76      0.77       153\n",
      "\n",
      "   micro avg       0.80      0.80      0.80       343\n",
      "   macro avg       0.79      0.79      0.79       343\n",
      "weighted avg       0.80      0.80      0.80       343\n",
      "\n"
     ]
    }
   ],
   "source": [
    "acc_rf_1_train, rf_optimal_1 = buildTrainRF(df_feature1_train)\n",
    "acc_rf_1_train_binary, rf_optimal_1_binary = buildTrainRF(df_feature1_train_binary)\n",
    "\n",
    "saveModel('rf_optimal_1.pkl', rf_optimal_1)\n",
    "saveModel('rf_optimal_1_binary.pkl', rf_optimal_1_binary)\n"
   ]
  },
  {
   "cell_type": "code",
   "execution_count": null,
   "metadata": {
    "ExecuteTime": {
     "start_time": "2019-06-29T02:52:10.530Z"
    }
   },
   "outputs": [
    {
     "name": "stdout",
     "output_type": "stream",
     "text": [
      "\n",
      "Accuracy (f1 micro) on test set:  0.596045197740113\n",
      "F1 micro on test set:  0.596045197740113\n",
      "F1 macro on test set:  0.32627928934280165\n",
      "\n",
      "Confusion Matrix: \n",
      "[[  0   7  20   0   0]\n",
      " [  3  38  58   0   0]\n",
      " [  7  22 162  11   0]\n",
      " [  0   0  11  11   0]\n",
      " [  0   0   0   4   0]]\n",
      "\n",
      "Classification Metrics: \n",
      "              precision    recall  f1-score   support\n",
      "\n",
      "          -2       0.00      0.00      0.00        27\n",
      "          -1       0.57      0.38      0.46        99\n",
      "           0       0.65      0.80      0.72       202\n",
      "           1       0.42      0.50      0.46        22\n",
      "           2       0.00      0.00      0.00         4\n",
      "\n",
      "   micro avg       0.60      0.60      0.60       354\n",
      "   macro avg       0.33      0.34      0.33       354\n",
      "weighted avg       0.55      0.60      0.56       354\n",
      "\n"
     ]
    },
    {
     "name": "stderr",
     "output_type": "stream",
     "text": [
      "/home/matias/anaconda3/lib/python3.7/site-packages/sklearn/metrics/classification.py:1143: UndefinedMetricWarning: F-score is ill-defined and being set to 0.0 in labels with no predicted samples.\n",
      "  'precision', 'predicted', average, warn_for)\n",
      "/home/matias/anaconda3/lib/python3.7/site-packages/sklearn/metrics/classification.py:1143: UndefinedMetricWarning: Precision and F-score are ill-defined and being set to 0.0 in labels with no predicted samples.\n",
      "  'precision', 'predicted', average, warn_for)\n",
      "/home/matias/anaconda3/lib/python3.7/site-packages/sklearn/metrics/classification.py:1143: UndefinedMetricWarning: Precision and F-score are ill-defined and being set to 0.0 in labels with no predicted samples.\n",
      "  'precision', 'predicted', average, warn_for)\n",
      "/home/matias/anaconda3/lib/python3.7/site-packages/sklearn/metrics/classification.py:1143: UndefinedMetricWarning: Precision and F-score are ill-defined and being set to 0.0 in labels with no predicted samples.\n",
      "  'precision', 'predicted', average, warn_for)\n"
     ]
    },
    {
     "name": "stdout",
     "output_type": "stream",
     "text": [
      "\n",
      "Accuracy (f1 micro) on test set:  0.6610169491525424\n",
      "F1 micro on test set:  0.6610169491525424\n",
      "F1 macro on test set:  0.6472229604039331\n",
      "\n",
      "Confusion Matrix: \n",
      "[[152  50]\n",
      " [ 70  82]]\n",
      "\n",
      "Classification Metrics: \n",
      "              precision    recall  f1-score   support\n",
      "\n",
      "           0       0.68      0.75      0.72       202\n",
      "           1       0.62      0.54      0.58       152\n",
      "\n",
      "   micro avg       0.66      0.66      0.66       354\n",
      "   macro avg       0.65      0.65      0.65       354\n",
      "weighted avg       0.66      0.66      0.66       354\n",
      "\n"
     ]
    }
   ],
   "source": [
    "# using the optimal model. re-train in whole train split and test in unseen test split\n",
    "acc_holistic_rf_1, _ = trainTest_tunedModel(df_feature1_train, df_feature1_test, rf_optimal_1)\n",
    "acc_holistic_rf_1_binary, _ = trainTest_tunedModel(df_feature1_train_binary, df_feature1_test_binary, \n",
    "                                                rf_optimal_1_binary)\n"
   ]
  },
  {
   "cell_type": "code",
   "execution_count": null,
   "metadata": {
    "ExecuteTime": {
     "start_time": "2019-06-29T02:52:10.536Z"
    }
   },
   "outputs": [
    {
     "name": "stdout",
     "output_type": "stream",
     "text": [
      "Features: ['Temperature (Fahrenheit)' 'SkinTemperature' 'ClothingInsulation'\n",
      " 'Gender' 'Temperature_outside' 'Humidity_outside']\n",
      "Number of folds: 10\n"
     ]
    },
    {
     "name": "stderr",
     "output_type": "stream",
     "text": [
      "/home/matias/anaconda3/lib/python3.7/site-packages/sklearn/model_selection/_search.py:841: DeprecationWarning: The default of the `iid` parameter will change from True to False in version 0.22 and will be removed in 0.24. This will change numeric results when test-set sizes are unequal.\n",
      "  DeprecationWarning)\n"
     ]
    },
    {
     "name": "stdout",
     "output_type": "stream",
     "text": [
      "Best parameters set found on development set:\n",
      "{'class_weight': 'balanced', 'criterion': 'entropy', 'min_samples_split': 2, 'n_estimators': 1000}\n",
      "Finding optimal tree depth\n"
     ]
    },
    {
     "name": "stderr",
     "output_type": "stream",
     "text": [
      "No handles with labels found to put in legend.\n"
     ]
    },
    {
     "name": "stdout",
     "output_type": "stream",
     "text": [
      "The optimal depth is:  12 \n",
      "\n",
      "Expected accuracy (f1 micro) based on Cross-Validation:  0.7293712901849286 \n",
      "\n"
     ]
    },
    {
     "data": {
      "image/png": "[encoded data removed]",
      "text/plain": [
       "<Figure size 864x720 with 1 Axes>"
      ]
     },
     "metadata": {
      "needs_background": "light"
     },
     "output_type": "display_data"
    },
    {
     "name": "stdout",
     "output_type": "stream",
     "text": [
      "RandomForestClassifier(bootstrap=True, class_weight='balanced',\n",
      "            criterion='entropy', max_depth=12, max_features='auto',\n",
      "            max_leaf_nodes=None, min_impurity_decrease=0.0,\n",
      "            min_impurity_split=None, min_samples_leaf=1,\n",
      "            min_samples_split=2, min_weight_fraction_leaf=0.0,\n",
      "            n_estimators=1000, n_jobs=None, oob_score=False,\n",
      "            random_state=100, verbose=0, warm_start=False)\n",
      "\n",
      "Accuracy (f1 micro) on test set:  0.7142857142857143\n",
      "F1 micro on test set:  0.7142857142857143\n",
      "F1 macro on test set:  0.5624449182658138\n",
      "\n",
      "Confusion Matrix: \n",
      "[[ 20  16   2   0   0]\n",
      " [ 13  34  24   0   0]\n",
      " [  1  13 171   5   0]\n",
      " [  0   0  16  18   1]\n",
      " [  0   0   2   5   2]]\n",
      "\n",
      "Classification Metrics: \n",
      "              precision    recall  f1-score   support\n",
      "\n",
      "          -2       0.59      0.53      0.56        38\n",
      "          -1       0.54      0.48      0.51        71\n",
      "           0       0.80      0.90      0.84       190\n",
      "           1       0.64      0.51      0.57        35\n",
      "           2       0.67      0.22      0.33         9\n",
      "\n",
      "   micro avg       0.71      0.71      0.71       343\n",
      "   macro avg       0.65      0.53      0.56       343\n",
      "weighted avg       0.70      0.71      0.70       343\n",
      "\n",
      "Features: ['Temperature (Fahrenheit)' 'SkinTemperature' 'ClothingInsulation'\n",
      " 'Gender' 'Temperature_outside' 'Humidity_outside']\n",
      "Number of folds: 10\n",
      "Best parameters set found on development set:\n",
      "{'class_weight': 'balanced', 'criterion': 'entropy', 'min_samples_split': 2, 'n_estimators': 1000}\n",
      "Finding optimal tree depth\n"
     ]
    },
    {
     "name": "stderr",
     "output_type": "stream",
     "text": [
      "No handles with labels found to put in legend.\n"
     ]
    },
    {
     "name": "stdout",
     "output_type": "stream",
     "text": [
      "The optimal depth is:  14 \n",
      "\n",
      "Expected accuracy (f1 micro) based on Cross-Validation:  0.808029197080292 \n",
      "\n"
     ]
    },
    {
     "data": {
      "image/png": "[encoded data removed]",
      "text/plain": [
       "<Figure size 864x720 with 1 Axes>"
      ]
     },
     "metadata": {
      "needs_background": "light"
     },
     "output_type": "display_data"
    },
    {
     "name": "stdout",
     "output_type": "stream",
     "text": [
      "RandomForestClassifier(bootstrap=True, class_weight='balanced',\n",
      "            criterion='entropy', max_depth=14, max_features='auto',\n",
      "            max_leaf_nodes=None, min_impurity_decrease=0.0,\n",
      "            min_impurity_split=None, min_samples_leaf=1,\n",
      "            min_samples_split=2, min_weight_fraction_leaf=0.0,\n",
      "            n_estimators=1000, n_jobs=None, oob_score=False,\n",
      "            random_state=100, verbose=0, warm_start=False)\n",
      "\n",
      "Accuracy (f1 micro) on test set:  0.8104956268221575\n",
      "F1 micro on test set:  0.8104956268221575\n",
      "F1 macro on test set:  0.8081407856804785\n",
      "\n",
      "Confusion Matrix: \n",
      "[[158  32]\n",
      " [ 33 120]]\n",
      "\n",
      "Classification Metrics: \n",
      "              precision    recall  f1-score   support\n",
      "\n",
      "           0       0.83      0.83      0.83       190\n",
      "           1       0.79      0.78      0.79       153\n",
      "\n",
      "   micro avg       0.81      0.81      0.81       343\n",
      "   macro avg       0.81      0.81      0.81       343\n",
      "weighted avg       0.81      0.81      0.81       343\n",
      "\n"
     ]
    }
   ],
   "source": [
    "acc_rf_2_train, rf_optimal_2 = buildTrainRF(df_feature2_train)\n",
    "acc_rf_2_train_binary, rf_optimal_2_binary = buildTrainRF(df_feature2_train_binary)\n",
    "\n",
    "saveModel('rf_optimal_2.pkl', rf_optimal_2)\n",
    "saveModel('rf_optimal_2_binary.pkl', rf_optimal_2_binary)\n"
   ]
  },
  {
   "cell_type": "code",
   "execution_count": null,
   "metadata": {
    "ExecuteTime": {
     "start_time": "2019-06-29T02:52:10.540Z"
    }
   },
   "outputs": [
    {
     "name": "stdout",
     "output_type": "stream",
     "text": [
      "\n",
      "Accuracy (f1 micro) on test set:  0.519774011299435\n",
      "F1 micro on test set:  0.519774011299435\n",
      "F1 macro on test set:  0.3224223933972561\n",
      "\n",
      "Confusion Matrix: \n",
      "[[  5   7  15   0   0]\n",
      " [ 16  37  46   0   0]\n",
      " [ 11  39 134  11   7]\n",
      " [  0   0  14   8   0]\n",
      " [  0   0   4   0   0]]\n",
      "\n",
      "Classification Metrics: \n",
      "              precision    recall  f1-score   support\n",
      "\n",
      "          -2       0.16      0.19      0.17        27\n",
      "          -1       0.45      0.37      0.41        99\n",
      "           0       0.63      0.66      0.65       202\n",
      "           1       0.42      0.36      0.39        22\n",
      "           2       0.00      0.00      0.00         4\n",
      "\n",
      "   micro avg       0.52      0.52      0.52       354\n",
      "   macro avg       0.33      0.32      0.32       354\n",
      "weighted avg       0.52      0.52      0.52       354\n",
      "\n",
      "\n",
      "Accuracy (f1 micro) on test set:  0.6412429378531074\n",
      "F1 micro on test set:  0.6412429378531074\n",
      "F1 macro on test set:  0.6372804505151396\n",
      "\n",
      "Confusion Matrix: \n",
      "[[132  70]\n",
      " [ 57  95]]\n",
      "\n",
      "Classification Metrics: \n",
      "              precision    recall  f1-score   support\n",
      "\n",
      "           0       0.70      0.65      0.68       202\n",
      "           1       0.58      0.62      0.60       152\n",
      "\n",
      "   micro avg       0.64      0.64      0.64       354\n",
      "   macro avg       0.64      0.64      0.64       354\n",
      "weighted avg       0.65      0.64      0.64       354\n",
      "\n"
     ]
    }
   ],
   "source": [
    "# using the optimal model. re-train in whole train split and test in unseen test split\n",
    "acc_holistic_rf_2, _ = trainTest_tunedModel(df_feature2_train, df_feature2_test, rf_optimal_2)\n",
    "acc_holistic_rf_2_binary, _ = trainTest_tunedModel(df_feature2_train_binary, df_feature2_test_binary, rf_optimal_2)\n"
   ]
  },
  {
   "cell_type": "code",
   "execution_count": null,
   "metadata": {
    "ExecuteTime": {
     "start_time": "2019-06-29T02:52:10.544Z"
    }
   },
   "outputs": [
    {
     "name": "stdout",
     "output_type": "stream",
     "text": [
      "Features: ['Temperature (Fahrenheit)' 'Height(cm)' 'Shoulder Circumference(cm)'\n",
      " 'Weight(lbs)' 'Temperature_outside' 'Humidity_outside']\n",
      "Number of folds: 10\n"
     ]
    },
    {
     "name": "stderr",
     "output_type": "stream",
     "text": [
      "/home/matias/anaconda3/lib/python3.7/site-packages/sklearn/model_selection/_search.py:841: DeprecationWarning: The default of the `iid` parameter will change from True to False in version 0.22 and will be removed in 0.24. This will change numeric results when test-set sizes are unequal.\n",
      "  DeprecationWarning)\n"
     ]
    },
    {
     "name": "stdout",
     "output_type": "stream",
     "text": [
      "Best parameters set found on development set:\n",
      "{'class_weight': 'balanced_subsample', 'criterion': 'entropy', 'min_samples_split': 2, 'n_estimators': 1000}\n",
      "Finding optimal tree depth\n"
     ]
    }
   ],
   "source": [
    "acc_rf_3_train, rf_optimal_3 = buildTrainRF(df_feature3_train)\n",
    "acc_rf_3_train_binary, rf_optimal_3_binary = buildTrainRF(df_feature3_train_binary)\n",
    "\n",
    "saveModel('rf_optimal_3.pkl', rf_optimal_3)\n",
    "saveModel('rf_optimal_3_binary.pkl', rf_optimal_3_binary)\n"
   ]
  },
  {
   "cell_type": "code",
   "execution_count": null,
   "metadata": {
    "ExecuteTime": {
     "start_time": "2019-06-29T02:52:10.547Z"
    }
   },
   "outputs": [],
   "source": [
    "# using the optimal model. re-train in whole train split and test in unseen test split\n",
    "acc_holistic_rf_3, _ = trainTest_tunedModel(df_feature3_train, df_feature3_test, rf_optimal_3)\n",
    "acc_holistic_rf_3_binary, _ = trainTest_tunedModel(df_feature3_train_binary, df_feature3_test_binary, \n",
    "                                                rf_optimal_3_binary)\n"
   ]
  },
  {
   "cell_type": "code",
   "execution_count": null,
   "metadata": {
    "ExecuteTime": {
     "start_time": "2019-06-29T02:52:10.550Z"
    }
   },
   "outputs": [],
   "source": [
    "acc_rf_4_train, rf_optimal_4 = buildTrainRF(df_feature4_train)\n",
    "acc_rf_4_train_binary, rf_optimal_4_binary = buildTrainRF(df_feature4_train_binary)\n",
    "\n",
    "saveModel('rf_optimal_4.pkl', rf_optimal_4)\n",
    "saveModel('rf_optimal_4_binary.pkl', rf_optimal_4_binary)\n"
   ]
  },
  {
   "cell_type": "code",
   "execution_count": null,
   "metadata": {
    "ExecuteTime": {
     "start_time": "2019-06-29T02:52:10.554Z"
    }
   },
   "outputs": [],
   "source": [
    "# using the optimal model. re-train in whole train split and test in unseen test split\n",
    "acc_holistic_rf_4, _ = trainTest_tunedModel(df_feature4_train, df_feature4_test, rf_optimal_4)\n",
    "acc_holistic_rf_4_binary, _ = trainTest_tunedModel(df_feature4_train_binary, df_feature4_test_binary, \n",
    "                                                rf_optimal_4_binary)\n"
   ]
  },
  {
   "cell_type": "code",
   "execution_count": null,
   "metadata": {
    "ExecuteTime": {
     "start_time": "2019-06-29T02:52:10.558Z"
    }
   },
   "outputs": [],
   "source": [
    "acc_rf_5_train, rf_optimal_5 = buildTrainRF(df_feature5_train)\n",
    "acc_rf_5_train_binary, rf_optimal_5_binary = buildTrainRF(df_feature5_train_binary)\n",
    "\n",
    "saveModel('rf_optimal_5.pkl', rf_optimal_5)\n",
    "saveModel('rf_optimal_5_binary.pkl', rf_optimal_5_binary)\n"
   ]
  },
  {
   "cell_type": "code",
   "execution_count": null,
   "metadata": {
    "ExecuteTime": {
     "start_time": "2019-06-29T02:52:10.562Z"
    }
   },
   "outputs": [],
   "source": [
    "# using the optimal model. re-train in whole train split and test in unseen test split\n",
    "acc_holistic_rf_5, _ = trainTest_tunedModel(df_feature5_train, df_feature5_test, rf_optimal_5)\n",
    "acc_holistic_rf_5_binary, _ = trainTest_tunedModel(df_feature5_train_binary, df_feature5_test_binary,\n",
    "                                                rf_optimal_5_binary)\n"
   ]
  },
  {
   "cell_type": "markdown",
   "metadata": {},
   "source": [
    "# KNN"
   ]
  },
  {
   "cell_type": "code",
   "execution_count": null,
   "metadata": {
    "ExecuteTime": {
     "start_time": "2019-06-29T02:52:10.568Z"
    }
   },
   "outputs": [],
   "source": [
    "acc_knn_1_train, knn_optimal_1 = buildTrainKNN(df_feature1_train)\n",
    "acc_knn_1_train_binary, knn_optimal_1_binary = buildTrainKNN(df_feature1_train_binary)\n",
    "\n",
    "# using the optimal model. re-train in whole train split and test in unseen test split\n",
    "acc_holistic_knn_1, _ = trainTest_tunedModel(df_feature1_train, df_feature1_test, knn_optimal_1)\n",
    "acc_holistic_knn_1_binary, _ = trainTest_tunedModel(df_feature1_train_binary, df_feature1_test_binary,\n",
    "                                                 knn_optimal_1_binary)\n",
    "saveModel('knn_optimal_1.pkl', knn_optimal_1)\n",
    "saveModel('knn_optimal_1_binary.pkl', knn_optimal_1_binary)\n"
   ]
  },
  {
   "cell_type": "code",
   "execution_count": null,
   "metadata": {
    "ExecuteTime": {
     "start_time": "2019-06-29T02:52:10.572Z"
    }
   },
   "outputs": [],
   "source": [
    "acc_knn_2_train, knn_optimal_2 = buildTrainKNN(df_feature2_train)\n",
    "acc_knn_2_train_binary, knn_optimal_2_binary = buildTrainKNN(df_feature2_train_binary)\n",
    "\n",
    "# using the optimal model. re-train in whole train split and test in unseen test split\n",
    "acc_holistic_knn_2, _ = trainTest_tunedModel(df_feature2_train, df_feature2_test, knn_optimal_2)\n",
    "acc_holistic_knn_2_binary, _ = trainTest_tunedModel(df_feature2_train_binary, df_feature2_test_binary,\n",
    "                                                 knn_optimal_2_binary)\n",
    "\n",
    "saveModel('knn_optimal_2.pkl', knn_optimal_2)\n",
    "saveModel('knn_optimal_2_binary.pkl', knn_optimal_2_binary)\n"
   ]
  },
  {
   "cell_type": "code",
   "execution_count": null,
   "metadata": {
    "ExecuteTime": {
     "start_time": "2019-06-29T02:52:10.575Z"
    }
   },
   "outputs": [],
   "source": [
    "acc_knn_3_train, knn_optimal_3 = buildTrainKNN(df_feature3_train)\n",
    "acc_knn_3_train_binary, knn_optimal_3_binary = buildTrainKNN(df_feature3_train_binary)\n",
    "\n",
    "# using the optimal model. re-train in whole train split and test in unseen test split\n",
    "acc_holistic_knn_3, _ = trainTest_tunedModel(df_feature3_train, df_feature3_test, knn_optimal_3)\n",
    "acc_holistic_knn_3_binary, _ = trainTest_tunedModel(df_feature3_train_binary, df_feature3_test_binary,\n",
    "                                                 knn_optimal_3_binary)\n",
    "saveModel('knn_optimal_3.pkl', knn_optimal_3)\n",
    "saveModel('knn_optimal_3_binary.pkl', knn_optimal_3_binary)\n"
   ]
  },
  {
   "cell_type": "code",
   "execution_count": null,
   "metadata": {
    "ExecuteTime": {
     "start_time": "2019-06-29T02:52:10.578Z"
    }
   },
   "outputs": [],
   "source": [
    "acc_knn_4_train, knn_optimal_4 = buildTrainKNN(df_feature4_train)\n",
    "acc_knn_4_train_binary, knn_optimal_4_binary = buildTrainKNN(df_feature4_train_binary)\n",
    "\n",
    "# using the optimal model. re-train in whole train split and test in unseen test split\n",
    "acc_holistic_knn_4, _ = trainTest_tunedModel(df_feature4_train, df_feature4_test, knn_optimal_4)\n",
    "acc_holistic_knn_4_binary, _ = trainTest_tunedModel(df_feature4_train_binary, df_feature4_test_binary,\n",
    "                                                 knn_optimal_4_binary)\n",
    "\n",
    "saveModel('knn_optimal_4.pkl', knn_optimal_4)\n",
    "saveModel('knn_optimal_4_binary.pkl', knn_optimal_4_binary)\n"
   ]
  },
  {
   "cell_type": "code",
   "execution_count": null,
   "metadata": {
    "ExecuteTime": {
     "start_time": "2019-06-29T02:52:10.582Z"
    }
   },
   "outputs": [],
   "source": [
    "acc_knn_5_train, knn_optimal_5 = buildTrainKNN(df_feature5_train)\n",
    "acc_knn_5_train_binary, knn_optimal_5_binary = buildTrainKNN(df_feature5_train_binary)\n",
    "\n",
    "# using the optimal model. re-train in whole train split and test in unseen test split\n",
    "acc_holistic_knn_5, _ = trainTest_tunedModel(df_feature5_train, df_feature5_test, knn_optimal_5)\n",
    "acc_holistic_knn_5_binary, _ = trainTest_tunedModel(df_feature5_train_binary, df_feature5_test_binary,\n",
    "                                                 knn_optimal_5_binary)\n",
    "saveModel('knn_optimal_5.pkl', knn_optimal_5)\n",
    "saveModel('knn_optimal_5_binary.pkl', knn_optimal_5_binary)\n"
   ]
  },
  {
   "cell_type": "markdown",
   "metadata": {},
   "source": [
    "# SVM "
   ]
  },
  {
   "cell_type": "code",
   "execution_count": null,
   "metadata": {
    "ExecuteTime": {
     "start_time": "2019-06-29T02:52:10.586Z"
    }
   },
   "outputs": [],
   "source": [
    "acc_svm_1_train, svm_optimal_1 = buildTrainSVM(df_feature1_train)\n",
    "acc_svm_1_train_binary, svm_optimal_1_binary = buildTrainSVM(df_feature1_train_binary)\n",
    "\n",
    "\n",
    "# using the optimal model. re-train in whole train split and test in unseen test split\n",
    "acc_holistic_svm_1, _ = trainTest_tunedModel(df_feature1_train, df_feature1_test, svm_optimal_1)\n",
    "acc_holistic_svm_1_binary, _ = trainTest_tunedModel(df_feature1_train_binary, df_feature1_test_binary,\n",
    "                                                 svm_optimal_1_binary)\n",
    "saveModel('svm_optimal_1.pkl', svm_optimal_1)\n",
    "saveModel('svm_optimal_1_binary.pkl', svm_optimal_1_binary)\n"
   ]
  },
  {
   "cell_type": "code",
   "execution_count": null,
   "metadata": {
    "ExecuteTime": {
     "start_time": "2019-06-29T02:52:10.589Z"
    }
   },
   "outputs": [],
   "source": [
    "acc_svm_2_train, svm_optimal_2 = buildTrainSVM(df_feature2_train)\n",
    "acc_svm_2_train_binary, svm_optimal_2_binary = buildTrainSVM(df_feature2_train_binary)\n",
    "\n",
    "# using the optimal model. re-train in whole train split and test in unseen test split\n",
    "acc_holistic_svm_2, _ = trainTest_tunedModel(df_feature2_train, df_feature2_test, svm_optimal_2)\n",
    "acc_holistic_svm_2_binary, _ = trainTest_tunedModel(df_feature2_train_binary, df_feature2_test_binary,\n",
    "                                                 svm_optimal_2_binary)\n",
    "saveModel('svm_optimal_2.pkl', svm_optimal_2)\n",
    "saveModel('svm_optimal_2_binary.pkl', svm_optimal_2_binary)\n"
   ]
  },
  {
   "cell_type": "code",
   "execution_count": null,
   "metadata": {
    "ExecuteTime": {
     "start_time": "2019-06-29T02:52:10.592Z"
    }
   },
   "outputs": [],
   "source": [
    "acc_svm_3_train, svm_optimal_3 = buildTrainSVM(df_feature3_train)\n",
    "acc_svm_3_train_binary, svm_optimal_3_binary = buildTrainSVM(df_feature3_train_binary)\n",
    "\n",
    "# using the optimal model. re-train in whole train split and test in unseen test split\n",
    "acc_holistic_svm_3, _ = trainTest_tunedModel(df_feature3_train, df_feature3_test, svm_optimal_3)\n",
    "acc_holistic_svm_3_binary, _ = trainTest_tunedModel(df_feature3_train_binary, df_feature3_test_binary,\n",
    "                                                 svm_optimal_3_binary)\n",
    "saveModel('svm_optimal_3.pkl', svm_optimal_3)\n",
    "saveModel('svm_optimal_3_binary.pkl', svm_optimal_3_binary)\n"
   ]
  },
  {
   "cell_type": "code",
   "execution_count": null,
   "metadata": {
    "ExecuteTime": {
     "start_time": "2019-06-29T02:52:10.594Z"
    }
   },
   "outputs": [],
   "source": [
    "acc_svm_4_train, svm_optimal_4 = buildTrainSVM(df_feature4_train)\n",
    "acc_svm_4_train_binary, svm_optimal_4_binary = buildTrainSVM(df_feature4_train_binary)\n",
    "\n",
    "# using the optimal model. re-train in whole train split and test in unseen test split\n",
    "acc_holistic_svm_4, _ = trainTest_tunedModel(df_feature4_train, df_feature4_test, svm_optimal_4)\n",
    "acc_holistic_svm_4_binary, _ = trainTest_tunedModel(df_feature4_train_binary, df_feature4_test_binary,\n",
    "                                                 svm_optimal_4_binary)\n",
    "saveModel('svm_optimal_4.pkl', svm_optimal_4)\n",
    "saveModel('svm_optimal_4_binary.pkl', svm_optimal_4_binary)\n"
   ]
  },
  {
   "cell_type": "code",
   "execution_count": null,
   "metadata": {
    "ExecuteTime": {
     "start_time": "2019-06-29T02:52:10.598Z"
    }
   },
   "outputs": [],
   "source": [
    "acc_svm_5_train, svm_optimal_5 = buildTrainSVM(df_feature5_train)\n",
    "acc_svm_5_train_binary, svm_optimal_5_binary = buildTrainSVM(df_feature5_train_binary)\n",
    "\n",
    "# using the optimal model. re-train in whole train split and test in unseen test split\n",
    "acc_holistic_svm_5, _ = trainTest_tunedModel(df_feature5_train, df_feature5_test, svm_optimal_5)\n",
    "acc_holistic_svm_5_binary, _ = trainTest_tunedModel(df_feature5_train_binary, df_feature5_test_binary,\n",
    "                                                 svm_optimal_5_binary)\n",
    "saveModel('svm_optimal_5.pkl', svm_optimal_5)\n",
    "saveModel('svm_optimal_5_binary.pkl', svm_optimal_5_binary)\n"
   ]
  },
  {
   "cell_type": "markdown",
   "metadata": {},
   "source": [
    "# NB"
   ]
  },
  {
   "cell_type": "code",
   "execution_count": null,
   "metadata": {
    "ExecuteTime": {
     "start_time": "2019-06-29T02:52:10.601Z"
    }
   },
   "outputs": [],
   "source": [
    "acc_nb_1_train, nb_optimal_1 = buildTrainNB(df_feature1_train)\n",
    "acc_nb_1_train_binary, nb_optimal_1_binary = buildTrainNB(df_feature1_train_binary)\n",
    "\n",
    "# using the optimal model. re-train in whole train split and test in unseen test split\n",
    "acc_holistic_nb_1, _ = trainTest_tunedModel(df_feature1_train, df_feature1_test, nb_optimal_1)\n",
    "acc_holistic_nb_1_binary, _ = trainTest_tunedModel(df_feature1_train_binary, df_feature1_test_binary,\n",
    "                                                nb_optimal_1_binary)\n",
    "saveModel('nb_optimal_1.pkl', nb_optimal_1)\n",
    "saveModel('nb_optimal_1_binary.pkl', nb_optimal_1_binary)\n"
   ]
  },
  {
   "cell_type": "code",
   "execution_count": null,
   "metadata": {
    "ExecuteTime": {
     "start_time": "2019-06-29T02:52:10.604Z"
    }
   },
   "outputs": [],
   "source": [
    "acc_nb_2_train, nb_optimal_2 = buildTrainNB(df_feature1_train)\n",
    "acc_nb_2_train_binary, nb_optimal_2_binary = buildTrainNB(df_feature1_train_binary)\n",
    "\n",
    "# using the optimal model. re-train in whole train split and test in unseen test split\n",
    "acc_holistic_nb_2, _ = trainTest_tunedModel(df_feature1_train, df_feature1_test, nb_optimal_2)\n",
    "acc_holistic_nb_2_binary, _ = trainTest_tunedModel(df_feature1_train_binary, df_feature1_test_binary,\n",
    "                                                nb_optimal_2_binary)\n",
    "saveModel('nb_optimal_2.pkl', nb_optimal_2)\n",
    "saveModel('nb_optimal_2_binary.pkl', nb_optimal_2_binary)\n"
   ]
  },
  {
   "cell_type": "code",
   "execution_count": null,
   "metadata": {
    "ExecuteTime": {
     "start_time": "2019-06-29T02:52:10.606Z"
    }
   },
   "outputs": [],
   "source": [
    "acc_nb_3_train, nb_optimal_3 = buildTrainNB(df_feature1_train)\n",
    "acc_nb_3_train_binary, nb_optimal_3_binary = buildTrainNB(df_feature1_train_binary)\n",
    "\n",
    "# using the optimal model. re-train in whole train split and test in unseen test split\n",
    "acc_holistic_nb_3, _ = trainTest_tunedModel(df_feature1_train, df_feature1_test, nb_optimal_3)\n",
    "acc_holistic_nb_3_binary, _ = trainTest_tunedModel(df_feature1_train_binary, df_feature1_test,\n",
    "                                                nb_optimal_3_binary)\n",
    "saveModel('nb_optimal_3.pkl', nb_optimal_3)\n",
    "saveModel('nb_optimal_3_binary.pkl', nb_optimal_3_binary)\n"
   ]
  },
  {
   "cell_type": "code",
   "execution_count": null,
   "metadata": {
    "ExecuteTime": {
     "start_time": "2019-06-29T02:52:10.609Z"
    }
   },
   "outputs": [],
   "source": [
    "acc_nb_4_train, nb_optimal_4 = buildTrainNB(df_feature1_train)\n",
    "acc_nb_4_train_binary, nb_optimal_4_binary = buildTrainNB(df_feature1_train_binary)\n",
    "\n",
    "# using the optimal model. re-train in whole train split and test in unseen test split\n",
    "acc_holistic_nb_4, _ = trainTest_tunedModel(df_feature1_train, df_feature1_test, nb_optimal_4)\n",
    "acc_holistic_nb_4_binary, _ = trainTest_tunedModel(df_feature1_train_binary, df_feature1_test_binary,\n",
    "                                                nb_optimal_4_binary)\n",
    "saveModel('nb_optimal_4.pkl', nb_optimal_4)\n",
    "saveModel('nb_optimal_4_binary.pkl', nb_optimal_4_binary)\n",
    "\n"
   ]
  },
  {
   "cell_type": "code",
   "execution_count": null,
   "metadata": {
    "ExecuteTime": {
     "start_time": "2019-06-29T02:52:10.612Z"
    }
   },
   "outputs": [],
   "source": [
    "acc_nb_5_train, nb_optimal_5 = buildTrainNB(df_feature1_train)\n",
    "acc_nb_5_train_binary, nb_optimal_5_binary = buildTrainNB(df_feature1_train_binary)\n",
    "\n",
    "# using the optimal model. re-train in whole train split and test in unseen test split\n",
    "acc_holistic_nb_5, _ = trainTest_tunedModel(df_feature1_train, df_feature1_test, nb_optimal_5)\n",
    "acc_holistic_nb_5_binary, _ = trainTest_tunedModel(df_feature1_train_binary, df_feature1_test_binary,\n",
    "                                                nb_optimal_5_binary)\n",
    "saveModel('nb_optimal_5.pkl', nb_optimal_5)\n",
    "saveModel('nb_optimal_5_binary.pkl', nb_optimal_5_binary)\n"
   ]
  },
  {
   "cell_type": "markdown",
   "metadata": {},
   "source": [
    "# MLP"
   ]
  },
  {
   "cell_type": "code",
   "execution_count": null,
   "metadata": {
    "ExecuteTime": {
     "start_time": "2019-06-29T02:52:10.616Z"
    }
   },
   "outputs": [],
   "source": [
    "acc_mlp_1_train, mlp_1 = buildMLP(df_feature1_train)\n",
    "acc_mlp_1_train_binary, mlp_1_binary = buildMLP(df_feature1_train_binary, binary=True)\n",
    "\n",
    "# using the optimal model. re-train in whole train split and test in unseen test split\n",
    "acc_holistic_mlp_1, _ = trainTest_tunedModel(df_feature1_train, df_feature1_test, mlp_1, mlp_tuned=True)\n",
    "acc_holistic_mlp_1_binary, _ = trainTest_tunedModel(df_feature1_train_binary, df_feature1_test_binary,\n",
    "                                                mlp_1_binary, mlp_tuned=True, binary_mlp=True)\n",
    "print(acc_holistic_mlp_1)\n",
    "print(acc_holistic_mlp_1_binary)\n",
    "\n",
    "saveModel('mlp_1.pkl', mlp_1)\n",
    "saveModel('mlp_1_binary.pkl', mlp_1_binary)\n"
   ]
  },
  {
   "cell_type": "code",
   "execution_count": null,
   "metadata": {
    "ExecuteTime": {
     "start_time": "2019-06-29T02:52:10.620Z"
    }
   },
   "outputs": [],
   "source": [
    "acc_mlp_2_train, mlp_2 = buildMLP(df_feature2_train)\n",
    "acc_mlp_2_train_binary, mlp_2_binary = buildMLP(df_feature2_train_binary, binary=True)\n",
    "\n",
    "# using the optimal model. re-train in whole train split and test in unseen test split\n",
    "acc_holistic_mlp_2, _ = trainTest_tunedModel(df_feature2_train, df_feature2_test, mlp_2, mlp_tuned=True)\n",
    "acc_holistic_mlp_2_binary, _ = trainTest_tunedModel(df_feature2_train_binary, df_feature2_test_binary,\n",
    "                                                mlp_2_binary, mlp_tuned=True, binary_mlp=True)\n",
    "\n",
    "print(acc_holistic_mlp_2)\n",
    "print(acc_holistic_mlp_2_binary)\n",
    "\n",
    "saveModel('mlp_2.pkl', mlp_2)\n",
    "saveModel('mlp_2_binary.pkl', mlp_2_binary)\n"
   ]
  },
  {
   "cell_type": "code",
   "execution_count": null,
   "metadata": {
    "ExecuteTime": {
     "start_time": "2019-06-29T02:52:10.623Z"
    }
   },
   "outputs": [],
   "source": [
    "acc_mlp_3_train, mlp_3 = buildMLP(df_feature3_train)\n",
    "acc_mlp_3_train_binary, mlp_3_binary = buildMLP(df_feature3_train_binary, binary=True)\n",
    "\n",
    "# using the optimal model. re-train in whole train split and test in unseen test split\n",
    "acc_holistic_mlp_3, _ = trainTest_tunedModel(df_feature3_train, df_feature3_test, mlp_3, mlp_tuned=True)\n",
    "acc_holistic_mlp_3_binary, _ = trainTest_tunedModel(df_feature3_train_binary, df_feature3_test_binary,\n",
    "                                                mlp_3_binary, mlp_tuned=True, binary_mlp=True)\n",
    "print(acc_holistic_mlp_3)\n",
    "print(acc_holistic_mlp_3_binary)\n",
    "saveModel('mlp_3.pkl', mlp_3)\n",
    "saveModel('mlp_3_binary.pkl', mlp_3_binary)\n"
   ]
  },
  {
   "cell_type": "code",
   "execution_count": null,
   "metadata": {
    "ExecuteTime": {
     "start_time": "2019-06-29T02:52:10.625Z"
    }
   },
   "outputs": [],
   "source": [
    "acc_mlp_4_train, mlp_4 = buildMLP(df_feature4_train)\n",
    "acc_mlp_4_train_binary, mlp_binary_4 = buildMLP(df_feature4_train_binary, binary=True)\n",
    "\n",
    "# using the optimal model. re-train in whole train split and test in unseen test split\n",
    "acc_holistic_mlp_4, _ = trainTest_tunedModel(df_feature4_train, df_feature4_test, mlp_4, mlp_tuned=True)\n",
    "acc_holistic_mlp_4_binary, _ = trainTest_tunedModel(df_feature4_train_binary, df_feature4_test_binary,\n",
    "                                                mlp_binary_4, mlp_tuned=True, binary_mlp=True)\n",
    "print(acc_holistic_mlp_4)\n",
    "print(acc_holistic_mlp_4_binary)\n",
    "saveModel('mlp_4.pkl', mlp_4)\n",
    "saveModel('mlp_4_binary.pkl', mlp_binary_4)\n"
   ]
  },
  {
   "cell_type": "code",
   "execution_count": null,
   "metadata": {
    "ExecuteTime": {
     "start_time": "2019-06-29T02:52:10.630Z"
    }
   },
   "outputs": [],
   "source": [
    "acc_mlp_5_train, mlp_5 = buildMLP(df_feature5_train)\n",
    "acc_mlp_5_train_binary, mlp_binary_5 = buildMLP(df_feature5_train_binary, binary=True)\n",
    "\n",
    "# using the optimal model. re-train in whole train split and test in unseen test split\n",
    "acc_holistic_mlp_5, _ = trainTest_tunedModel(df_feature5_train, df_feature5_test, mlp_5, mlp_tuned=True)\n",
    "acc_holistic_mlp_5_binary, _ = trainTest_tunedModel(df_feature5_train_binary, df_feature5_test_binary,\n",
    "                                                mlp_binary_5, mlp_tuned=True, binary_mlp=True)\n",
    ", mlp_tuned=True, binary_mlp=True)\n",
    "print(acc_mlp_5_train)\n",
    "print(acc_mlp_5_train_binary)\n",
    "saveModel('mlp_5.pkl', mlp_5)\n",
    "saveModel('mlp_5_binary.pkl', mlp_binary_5)\n"
   ]
  },
  {
   "cell_type": "markdown",
   "metadata": {},
   "source": [
    "# Results"
   ]
  },
  {
   "cell_type": "code",
   "execution_count": null,
   "metadata": {
    "ExecuteTime": {
     "start_time": "2019-06-29T02:52:10.634Z"
    }
   },
   "outputs": [],
   "source": [
    "experiment_acc_all_participants = pd.DataFrame([['Random Forest', 'FS1 - Multiclass', acc_holistic_rf_1], \n",
    "                                                ['KNN', 'FS1 - Multiclass', acc_holistic_knn_1],\n",
    "                                                ['SVM', 'FS1 - Multiclass', acc_holistic_svm_1],\n",
    "                                                ['Naives Bayes', 'FS1 - Multiclass', acc_holistic_nb_1],\n",
    "                                                ['MLP', 'FS1 - Multiclass', acc_holistic_mlp_1],\n",
    "                                                \n",
    "                                                ['Random Forest', 'FS2 - Multiclass', acc_holistic_rf_2], \n",
    "                                                ['KNN', 'FS2 - Multiclass', acc_holistic_knn_2],\n",
    "                                                ['SVM', 'FS2 - Multiclass', acc_holistic_svm_2],\n",
    "                                                ['Naives Bayes', 'FS2 - Multiclass', acc_holistic_nb_2],\n",
    "                                                ['MLP', 'FS2 - Multiclass', acc_holistic_mlp_2],\n",
    "                                                \n",
    "                                                ['Random Forest', 'FS3 - Multiclass', acc_holistic_rf_3], \n",
    "                                                ['KNN', 'FS3 - Multiclass', acc_holistic_knn_3],\n",
    "                                                ['SVM', 'FS3 - Multiclass', acc_holistic_svm_3],\n",
    "                                                ['Naives Bayes', 'FS3 - Multiclass', acc_holistic_nb_3],\n",
    "                                                ['MLP', 'FS3 - Multiclass', acc_holistic_mlp_3],\n",
    "                                                                                             \n",
    "                                                ['Random Forest', 'FS4 - Multiclass', acc_holistic_rf_4], \n",
    "                                                ['KNN', 'FS4 - Multiclass', acc_holistic_knn_4],\n",
    "                                                ['SVM', 'FS4 - Multiclass', acc_holistic_svm_4],\n",
    "                                                ['Naives Bayes', 'FS4 - Multiclass', acc_holistic_nb_4],\n",
    "                                                ['MLP', 'FS4 - Multiclass', acc_holistic_mlp_4],\n",
    "                                                \n",
    "                                                ['Random Forest', 'FS5 - Multiclass', acc_holistic_rf_5], \n",
    "                                                ['KNN', 'FS5 - Multiclass', acc_holistic_knn_5],\n",
    "                                                ['SVM', 'FS5 - Multiclass', acc_holistic_svm_5],\n",
    "                                                ['Naives Bayes', 'FS5 - Multiclass', acc_holistic_nb_5],\n",
    "                                                ['MLP', 'FS5 - Multiclass', acc_holistic_mlp_5],\n",
    "                                                \n",
    "                                                # Binary Target\n",
    "                                            \n",
    "                                                ['Random Forest', 'FS1 - Binary', acc_holistic_rf_1_binary], \n",
    "                                                ['KNN', 'FS1 - Binary', acc_holistic_knn_1_binary],\n",
    "                                                ['SVM', 'FS1 - Binary', acc_holistic_svm_1_binary],\n",
    "                                                ['Naives Bayes', 'FS1 - Binary', acc_holistic_nb_1_binary],\n",
    "                                                ['MLP', 'FS1 - Binary', acc_holistic_mlp_1_binary],\n",
    "                                                \n",
    "                                                ['Random Forest', 'FS2 - Binary', acc_holistic_rf_2_binary],\n",
    "                                                ['KNN', 'FS2 - Binary', acc_holistic_knn_2_binary],\n",
    "                                                ['SVM', 'FS2 - Binary', acc_holistic_svm_2_binary],\n",
    "                                                ['Naives Bayes', 'FS2 - Binary', acc_holistic_nb_2_binary],\n",
    "                                                ['MLP', 'FS2 - Binary', acc_holistic_mlp_2_binary],\n",
    "                                                \n",
    "                                                ['Random Forest', 'FS3 - Binary', acc_holistic_rf_3_binary], \n",
    "                                                ['KNN', 'FS3 - Binary', acc_holistic_knn_3_binary],\n",
    "                                                ['SVM', 'FS3 - Binary', acc_holistic_svm_3_binary],\n",
    "                                                ['Naives Bayes', 'FS3 - Binary', acc_holistic_nb_3_binary],\n",
    "                                                ['MLP', 'FS3 - Binary', acc_holistic_mlp_3_binary],\n",
    "\n",
    "                                                ['Random Forest', 'FS4 - Binary', acc_holistic_rf_4_binary], \n",
    "                                                ['KNN', 'FS4 - Binary', acc_holistic_knn_4_binary],\n",
    "                                                ['SVM', 'FS4 - Binary', acc_holistic_svm_4_binary],\n",
    "                                                ['Naives Bayes', 'FS4 - Binary', acc_holistic_nb_4_binary],\n",
    "                                                ['MLP', 'FS4 - Binary', acc_holistic_mlp_4_binary],\n",
    "\n",
    "                                                ['Random Forest', 'FS5 - Binary', acc_holistic_rf_5_binary], \n",
    "                                                ['KNN', 'FS5 - Binary', acc_holistic_knn_5_binary],\n",
    "                                                ['SVM', 'FS5 - Binary', acc_holistic_svm_5_binary],\n",
    "                                                ['Naives Bayes', 'FS5 - Binary', acc_holistic_nb_5_binary],\n",
    "                                                ['MLP', 'FS5 - Binary', acc_holistic_mlp_5_binary],\n",
    "\n",
    "                                                # Majority Class\n",
    "                                                \n",
    "                                                ['Dummy Majority-Class', 'FS1 - Multiclass', majority_class_acc],\n",
    "                                                ['Dummy Majority-Class', 'FS2 - Multiclass', majority_class_acc],\n",
    "                                                ['Dummy Majority-Class', 'FS3 - Multiclass', majority_class_acc],\n",
    "                                                ['Dummy Majority-Class', 'FS4 - Multiclass', majority_class_acc],\n",
    "                                                ['Dummy Majority-Class', 'FS5 - Multiclass', majority_class_acc],\n",
    "                                                \n",
    "                                                ['Dummy Majority-Class', 'FS1 - Binary', majority_class_acc_binary],\n",
    "                                                ['Dummy Majority-Class', 'FS2 - Binary', majority_class_acc_binary],\n",
    "                                                ['Dummy Majority-Class', 'FS3 - Binary', majority_class_acc_binary],\n",
    "                                                ['Dummy Majority-Class', 'FS4 - Binary', majority_class_acc_binary],\n",
    "                                                ['Dummy Majority-Class', 'FS5 - Binary', majority_class_acc_binary],\n",
    "                                                \n",
    "                                                # PMV\n",
    "                                                \n",
    "                                                ['PMV', 'FS1 - Multiclass', pmv_holistic_1_acc],                                                \n",
    "                                                ['PMV', 'FS1 - Binary', pmv_holistic_1_acc_binary],\n",
    "                                                ['PMV', 'FS2 - Multiclass', pmv_holistic_2_acc],\n",
    "                                                ['PMV', 'FS2 - Binary', pmv_holistic_2_acc_binary],\n",
    "                                                ['PMV', 'FS3 - Multiclass', pmv_holistic_3_acc],\n",
    "                                                ['PMV', 'FS3 - Binary', pmv_holistic_3_acc_binary],\n",
    "                                                ['PMV', 'FS4 - Multiclass', pmv_holistic_4_acc],\n",
    "                                                ['PMV', 'FS4 - Binary', pmv_holistic_4_acc_binary],\n",
    "                                                ['PMV', 'FS5 - Multiclass', pmv_holistic_5_acc],\n",
    "                                                ['PMV', 'FS5 - Binary', pmv_holistic_5_acc_binary],\n",
    "                                               \n",
    "                                                # PPV\n",
    "                                                ['PPV', 'FS1 - Multiclass', ppv_1_acc],                                                \n",
    "                                                ['PPV', 'FS1 - Binary', ppv_1_acc_binary],\n",
    "                                                ['PPV', 'FS2 - Multiclass', ppv_2_acc],\n",
    "                                                ['PPV', 'FS2 - Binary', ppv_2_acc_binary],\n",
    "                                                ['PPV', 'FS3 - Multiclass', ppv_2_acc],\n",
    "                                                ['PPV', 'FS3 - Binary', ppv_3_acc_binary],\n",
    "                                                ['PPV', 'FS4 - Multiclass', ppv_2_acc],\n",
    "                                                ['PPV', 'FS4 - Binary', ppv_4_acc_binary],\n",
    "                                                ['PPV', 'FS5 - Multiclass', ppv_2_acc],\n",
    "                                                ['PPV', 'FS5 - Binary', ppv_4_acc_binary]],\n",
    "                                               \n",
    "                                                columns = ['Model', 'Feature Set and Classification Type', 'Accuracy'])\n",
    "\n",
    "# plot heatmap\n",
    "print(\"Metric: F1-score micro\")\n",
    "print(\"Data Split: 30% Test, 70% Train\")\n",
    "experiment_acc_all_participants = experiment_acc_all_participants.pivot(\"Feature Set and Classification Type\", \"Model\", \"Accuracy\")\n",
    "fig = plt.figure(figsize=(12, 10))\n",
    "ax = sns.heatmap(experiment_acc_all_participants, linewidths = 0.5, annot = True, vmax = 1, cmap = \"YlGnBu\")\n",
    "plt.tight_layout()\n",
    "plt.show()\n"
   ]
  },
  {
   "cell_type": "code",
   "execution_count": null,
   "metadata": {},
   "outputs": [],
   "source": [
    "print(\"Binary\")\n",
    "experiment_acc_all_participants = pd.DataFrame(\n",
    "                                                # Binary Target\n",
    "                                            \n",
    "                                                ['Random Forest', 'FS1', acc_holistic_rf_1_binary], \n",
    "                                                ['KNN', 'FS1', acc_holistic_knn_1_binary],\n",
    "                                                ['SVM', 'FS1', acc_holistic_svm_1_binary],\n",
    "                                                ['Naives Bayes', 'FS1', acc_holistic_nb_1_binary],\n",
    "                                                ['MLP', 'FS1', acc_holistic_mlp_1_binary],\n",
    "                                                \n",
    "                                                ['Random Forest', 'FS2', acc_holistic_rf_2_binary],\n",
    "                                                ['KNN', 'FS2', acc_holistic_knn_2_binary],\n",
    "                                                ['SVM', 'FS2', acc_holistic_svm_2_binary],\n",
    "                                                ['Naives Bayes', 'FS2', acc_holistic_nb_2_binary],\n",
    "                                                ['MLP', 'FS2', acc_holistic_mlp_2_binary],\n",
    "                                                \n",
    "                                                ['Random Forest', 'FS3', acc_holistic_rf_3_binary], \n",
    "                                                ['KNN', 'FS3', acc_holistic_knn_3_binary],\n",
    "                                                ['SVM', 'FS3', acc_holistic_svm_3_binary],\n",
    "                                                ['Naives Bayes', 'FS3', acc_holistic_nb_3_binary],\n",
    "                                                ['MLP', 'FS3', acc_holistic_mlp_3_binary],\n",
    "\n",
    "                                                ['Random Forest', 'FS4', acc_holistic_rf_4_binary], \n",
    "                                                ['KNN', 'FS4', acc_holistic_knn_4_binary],\n",
    "                                                ['SVM', 'FS4', acc_holistic_svm_4_binary],\n",
    "                                                ['Naives Bayes', 'FS4', acc_holistic_nb_4_binary],\n",
    "                                                ['MLP', 'FS4', acc_holistic_mlp_4_binary],\n",
    "\n",
    "                                                ['Random Forest', 'FS5', acc_holistic_rf_5_binary], \n",
    "                                                ['KNN', 'FS5', acc_holistic_knn_5_binary],\n",
    "                                                ['SVM', 'FS5', acc_holistic_svm_5_binary],\n",
    "                                                ['Naives Bayes', 'FS5', acc_holistic_nb_5_binary],\n",
    "                                                ['MLP', 'FS5', acc_holistic_mlp_5_binary],\n",
    "\n",
    "                                                # Majority Class\n",
    "                                                                                                \n",
    "                                                ['Dummy Majority-Class', 'FS1', majority_class_acc_binary],\n",
    "                                                ['Dummy Majority-Class', 'FS2', majority_class_acc_binary],\n",
    "                                                ['Dummy Majority-Class', 'FS3', majority_class_acc_binary],\n",
    "                                                ['Dummy Majority-Class', 'FS4', majority_class_acc_binary],\n",
    "                                                ['Dummy Majority-Class', 'FS5', majority_class_acc_binary],\n",
    "                                                \n",
    "                                                # PMV\n",
    "                                                \n",
    "                                                ['PMV', 'FS1', pmv_holistic_1_acc_binary],\n",
    "                                                ['PMV', 'FS2', pmv_holistic_2_acc_binary],\n",
    "                                                ['PMV', 'FS3', pmv_holistic_3_acc_binary],\n",
    "                                                ['PMV', 'FS4', pmv_holistic_4_acc_binary],\n",
    "                                                ['PMV', 'FS5', pmv_holistic_5_acc_binary],\n",
    "                                               \n",
    "                                                # PPV                                      \n",
    "                                                ['PPV', 'FS1', ppv_1_acc_binary],\n",
    "                                                ['PPV', 'FS2', ppv_2_acc_binary],\n",
    "                                                ['PPV', 'FS3', ppv_3_acc_binary],\n",
    "                                                ['PPV', 'FS4', ppv_4_acc_binary],\n",
    "                                                ['PPV', 'FS5', ppv_4_acc_binary]],\n",
    "                                               \n",
    "                                                columns = ['Model', 'Feature Set and Classification Type', 'Accuracy'])\n",
    "\n",
    "# plot heatmap\n",
    "print(\"Metric: F1-score micro\")\n",
    "print(\"Data Split: 30% Test, 70% Train\")\n",
    "experiment_acc_all_participants = experiment_acc_all_participants.pivot(\"Feature Set and Classification Type\", \"Model\", \"Accuracy\")\n",
    "fig = plt.figure(figsize=(12, 10))\n",
    "ax = sns.heatmap(experiment_acc_all_participants, linewidths = 0.5, annot = True, vmax = 1, cmap = \"YlGnBu\")\n",
    "plt.tight_layout()\n",
    "plt.show()"
   ]
  },
  {
   "cell_type": "code",
   "execution_count": null,
   "metadata": {},
   "outputs": [],
   "source": [
    "print(\"Multiclass\")\n",
    "experiment_acc_all_participants = pd.DataFrame([['Random Forest', 'FS1', acc_holistic_rf_1], \n",
    "                                                ['KNN', 'FS1', acc_holistic_knn_1],\n",
    "                                                ['SVM', 'FS1', acc_holistic_svm_1],\n",
    "                                                ['Naives Bayes', 'FS1', acc_holistic_nb_1],\n",
    "                                                ['MLP', 'FS1', acc_holistic_mlp_1],\n",
    "                                                \n",
    "                                                ['Random Forest', 'FS2', acc_holistic_rf_2], \n",
    "                                                ['KNN', 'FS2', acc_holistic_knn_2],\n",
    "                                                ['SVM', 'FS2', acc_holistic_svm_2],\n",
    "                                                ['Naives Bayes', 'FS2', acc_holistic_nb_2],\n",
    "                                                ['MLP', 'FS2', acc_holistic_mlp_2],\n",
    "                                                \n",
    "                                                ['Random Forest', 'FS3', acc_holistic_rf_3], \n",
    "                                                ['KNN', 'FS3', acc_holistic_knn_3],\n",
    "                                                ['SVM', 'FS3', acc_holistic_svm_3],\n",
    "                                                ['Naives Bayes', 'FS3', acc_holistic_nb_3],\n",
    "                                                ['MLP', 'FS3', acc_holistic_mlp_3],\n",
    "                                                                                             \n",
    "                                                ['Random Forest', 'FS4', acc_holistic_rf_4], \n",
    "                                                ['KNN', 'FS4', acc_holistic_knn_4],\n",
    "                                                ['SVM', 'FS4', acc_holistic_svm_4],\n",
    "                                                ['Naives Bayes', 'FS4', acc_holistic_nb_4],\n",
    "                                                ['MLP', 'FS4', acc_holistic_mlp_4],\n",
    "                                                \n",
    "                                                ['Random Forest', 'FS5', acc_holistic_rf_5], \n",
    "                                                ['KNN', 'FS5', acc_holistic_knn_5],\n",
    "                                                ['SVM', 'FS5', acc_holistic_svm_5],\n",
    "                                                ['Naives Bayes', 'FS5', acc_holistic_nb_5],\n",
    "                                                ['MLP', 'FS5', acc_holistic_mlp_5],\n",
    "                                                \n",
    "                                              \n",
    "                                                # Majority Class\n",
    "                                                \n",
    "                                                ['Dummy Majority-Class', 'FS1', majority_class_acc],\n",
    "                                                ['Dummy Majority-Class', 'FS2', majority_class_acc],\n",
    "                                                ['Dummy Majority-Class', 'FS3', majority_class_acc],\n",
    "                                                ['Dummy Majority-Class', 'FS4', majority_class_acc],\n",
    "                                                ['Dummy Majority-Class', 'FS5', majority_class_acc],\n",
    "                                                  \n",
    "                                                # PMV\n",
    "                                                \n",
    "                                                ['PMV', 'FS1', pmv_holistic_1_acc],                                                \n",
    "                                                ['PMV', 'FS2', pmv_holistic_2_acc],\n",
    "                                                ['PMV', 'FS3', pmv_holistic_3_acc],\n",
    "                                                ['PMV', 'FS4', pmv_holistic_4_acc],\n",
    "                                                ['PMV', 'FS5', pmv_holistic_5_acc],\n",
    "                                               \n",
    "                                                # PPV\n",
    "                                                ['PPV', 'FS1', ppv_1_acc],                                                \n",
    "                                                ['PPV', 'FS2', ppv_2_acc],\n",
    "                                                ['PPV', 'FS3', ppv_2_acc],\n",
    "                                                ['PPV', 'FS4', ppv_2_acc],\n",
    "                                                ['PPV', 'FS5', ppv_2_acc],\n",
    "                                               \n",
    "                                                columns = ['Model', 'Feature Set and Classification Type', 'Accuracy'])\n",
    "\n",
    "# plot heatmap\n",
    "print(\"Metric: F1-score micro\")\n",
    "print(\"Data Split: 20% Test, 80% Train\")\n",
    "experiment_acc_all_participants = experiment_acc_all_participants.pivot(\"Feature Set and Classification Type\", \"Model\", \"Accuracy\")\n",
    "fig = plt.figure(figsize=(12, 10))\n",
    "ax = sns.heatmap(experiment_acc_all_participants, linewidths = 0.5, annot = True, vmax = 1, cmap = \"YlGnBu\")\n",
    "plt.tight_layout()\n",
    "plt.show()\n"
   ]
  },
  {
   "cell_type": "code",
   "execution_count": null,
   "metadata": {},
   "outputs": [],
   "source": []
  }
 ],
 "metadata": {
  "kernelspec": {
   "display_name": "Python 3",
   "language": "python",
   "name": "python3"
  },
  "language_info": {
   "codemirror_mode": {
    "name": "ipython",
    "version": 3
   },
   "file_extension": ".py",
   "mimetype": "text/x-python",
   "name": "python",
   "nbconvert_exporter": "python",
   "pygments_lexer": "ipython3",
   "version": "3.7.3"
  },
  "toc": {
   "base_numbering": 1,
   "nav_menu": {},
   "number_sections": true,
   "sideBar": true,
   "skip_h1_title": false,
   "title_cell": "Table of Contents",
   "title_sidebar": "Contents",
   "toc_cell": false,
   "toc_position": {
    "height": "calc(100% - 180px)",
    "left": "10px",
    "top": "150px",
    "width": "215px"
   },
   "toc_section_display": true,
   "toc_window_display": true
  }
 },
 "nbformat": 4,
 "nbformat_minor": 2
}
